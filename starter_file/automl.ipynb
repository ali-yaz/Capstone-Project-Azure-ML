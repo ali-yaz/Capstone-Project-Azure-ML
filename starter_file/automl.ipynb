{
 "cells": [
  {
   "cell_type": "markdown",
   "metadata": {},
   "source": [
    "# Automated ML"
   ]
  },
  {
   "cell_type": "code",
   "execution_count": 1,
   "metadata": {
    "gather": {
     "logged": 1696724440199
    }
   },
   "outputs": [
    {
     "name": "stdout",
     "output_type": "stream",
     "text": [
      "SDK version: 1.51.0\n"
     ]
    }
   ],
   "source": [
    "import azureml.core\n",
    "from azureml.core.experiment import Experiment\n",
    "from azureml.core.workspace import Workspace\n",
    "from azureml.train.automl import AutoMLConfig\n",
    "from azureml.core.dataset import Dataset\n",
    "from azureml.core.webservice import Webservice\n",
    "from azureml.core.webservice import AciWebservice\n",
    "from azureml.core.model import InferenceConfig\n",
    "from azureml.core.model import Model\n",
    "\n",
    "print(\"SDK version:\", azureml.core.VERSION)"
   ]
  },
  {
   "cell_type": "code",
   "execution_count": 21,
   "metadata": {},
   "outputs": [
    {
     "name": "stdout",
     "output_type": "stream",
     "text": [
      "KeysView({'TitanicDataset': DatasetRegistration(id='773fa54c-b394-4604-85fe-a8fea1fef0a8', name='TitanicDataset', version=1, description='', tags={})})\n"
     ]
    }
   ],
   "source": [
    "print(ws.datasets.keys())\n"
   ]
  },
  {
   "cell_type": "markdown",
   "metadata": {},
   "source": [
    "## Dataset\n",
    "\n",
    "### Overview\n",
    "The dataset chosen for this project is the one from [Kaggle Titanic Challenge](https://www.kaggle.com/c/titanic). \n",
    "In the famous Titanic shipwreck, some passengers were more likely to survive than others. The dataset presents information about 871 passengers and a column that states if they have survived or not. The model that we will create using automated ML predicts which passengers survived the Titanic shipwreck."
   ]
  },
  {
   "cell_type": "code",
   "execution_count": 9,
   "metadata": {
    "gather": {
     "logged": 1696724445055
    },
    "jupyter": {
     "outputs_hidden": false,
     "source_hidden": false
    },
    "nteract": {
     "transient": {
      "deleting": false
     }
    }
   },
   "outputs": [
    {
     "name": "stdout",
     "output_type": "stream",
     "text": [
      "KeysView({})\n"
     ]
    },
    {
     "data": {
      "text/html": [
       "<div>\n",
       "<style scoped>\n",
       "    .dataframe tbody tr th:only-of-type {\n",
       "        vertical-align: middle;\n",
       "    }\n",
       "\n",
       "    .dataframe tbody tr th {\n",
       "        vertical-align: top;\n",
       "    }\n",
       "\n",
       "    .dataframe thead th {\n",
       "        text-align: right;\n",
       "    }\n",
       "</style>\n",
       "<table border=\"1\" class=\"dataframe\">\n",
       "  <thead>\n",
       "    <tr style=\"text-align: right;\">\n",
       "      <th></th>\n",
       "      <th>PassengerId</th>\n",
       "      <th>Survived</th>\n",
       "      <th>Pclass</th>\n",
       "      <th>Age</th>\n",
       "      <th>SibSp</th>\n",
       "      <th>Parch</th>\n",
       "      <th>Fare</th>\n",
       "      <th>Q</th>\n",
       "      <th>S</th>\n",
       "      <th>male</th>\n",
       "    </tr>\n",
       "  </thead>\n",
       "  <tbody>\n",
       "    <tr>\n",
       "      <th>count</th>\n",
       "      <td>891.000000</td>\n",
       "      <td>891.000000</td>\n",
       "      <td>891.000000</td>\n",
       "      <td>891.000000</td>\n",
       "      <td>891.000000</td>\n",
       "      <td>891.000000</td>\n",
       "      <td>891.000000</td>\n",
       "      <td>891.000000</td>\n",
       "      <td>891.000000</td>\n",
       "      <td>891.000000</td>\n",
       "    </tr>\n",
       "    <tr>\n",
       "      <th>mean</th>\n",
       "      <td>446.000000</td>\n",
       "      <td>0.383838</td>\n",
       "      <td>2.308642</td>\n",
       "      <td>29.066409</td>\n",
       "      <td>0.523008</td>\n",
       "      <td>0.381594</td>\n",
       "      <td>32.204208</td>\n",
       "      <td>0.086420</td>\n",
       "      <td>0.725028</td>\n",
       "      <td>0.647587</td>\n",
       "    </tr>\n",
       "    <tr>\n",
       "      <th>std</th>\n",
       "      <td>257.353842</td>\n",
       "      <td>0.486592</td>\n",
       "      <td>0.836071</td>\n",
       "      <td>13.244532</td>\n",
       "      <td>1.102743</td>\n",
       "      <td>0.806057</td>\n",
       "      <td>49.693429</td>\n",
       "      <td>0.281141</td>\n",
       "      <td>0.446751</td>\n",
       "      <td>0.477990</td>\n",
       "    </tr>\n",
       "    <tr>\n",
       "      <th>min</th>\n",
       "      <td>1.000000</td>\n",
       "      <td>0.000000</td>\n",
       "      <td>1.000000</td>\n",
       "      <td>0.420000</td>\n",
       "      <td>0.000000</td>\n",
       "      <td>0.000000</td>\n",
       "      <td>0.000000</td>\n",
       "      <td>0.000000</td>\n",
       "      <td>0.000000</td>\n",
       "      <td>0.000000</td>\n",
       "    </tr>\n",
       "    <tr>\n",
       "      <th>25%</th>\n",
       "      <td>223.500000</td>\n",
       "      <td>0.000000</td>\n",
       "      <td>2.000000</td>\n",
       "      <td>22.000000</td>\n",
       "      <td>0.000000</td>\n",
       "      <td>0.000000</td>\n",
       "      <td>7.910400</td>\n",
       "      <td>0.000000</td>\n",
       "      <td>0.000000</td>\n",
       "      <td>0.000000</td>\n",
       "    </tr>\n",
       "    <tr>\n",
       "      <th>50%</th>\n",
       "      <td>446.000000</td>\n",
       "      <td>0.000000</td>\n",
       "      <td>3.000000</td>\n",
       "      <td>26.000000</td>\n",
       "      <td>0.000000</td>\n",
       "      <td>0.000000</td>\n",
       "      <td>14.454200</td>\n",
       "      <td>0.000000</td>\n",
       "      <td>1.000000</td>\n",
       "      <td>1.000000</td>\n",
       "    </tr>\n",
       "    <tr>\n",
       "      <th>75%</th>\n",
       "      <td>668.500000</td>\n",
       "      <td>1.000000</td>\n",
       "      <td>3.000000</td>\n",
       "      <td>37.000000</td>\n",
       "      <td>1.000000</td>\n",
       "      <td>0.000000</td>\n",
       "      <td>31.000000</td>\n",
       "      <td>0.000000</td>\n",
       "      <td>1.000000</td>\n",
       "      <td>1.000000</td>\n",
       "    </tr>\n",
       "    <tr>\n",
       "      <th>max</th>\n",
       "      <td>891.000000</td>\n",
       "      <td>1.000000</td>\n",
       "      <td>3.000000</td>\n",
       "      <td>80.000000</td>\n",
       "      <td>8.000000</td>\n",
       "      <td>6.000000</td>\n",
       "      <td>512.329200</td>\n",
       "      <td>1.000000</td>\n",
       "      <td>1.000000</td>\n",
       "      <td>1.000000</td>\n",
       "    </tr>\n",
       "  </tbody>\n",
       "</table>\n",
       "</div>"
      ],
      "text/plain": [
       "       PassengerId    Survived      Pclass         Age       SibSp  \\\n",
       "count   891.000000  891.000000  891.000000  891.000000  891.000000   \n",
       "mean    446.000000    0.383838    2.308642   29.066409    0.523008   \n",
       "std     257.353842    0.486592    0.836071   13.244532    1.102743   \n",
       "min       1.000000    0.000000    1.000000    0.420000    0.000000   \n",
       "25%     223.500000    0.000000    2.000000   22.000000    0.000000   \n",
       "50%     446.000000    0.000000    3.000000   26.000000    0.000000   \n",
       "75%     668.500000    1.000000    3.000000   37.000000    1.000000   \n",
       "max     891.000000    1.000000    3.000000   80.000000    8.000000   \n",
       "\n",
       "            Parch        Fare           Q           S        male  \n",
       "count  891.000000  891.000000  891.000000  891.000000  891.000000  \n",
       "mean     0.381594   32.204208    0.086420    0.725028    0.647587  \n",
       "std      0.806057   49.693429    0.281141    0.446751    0.477990  \n",
       "min      0.000000    0.000000    0.000000    0.000000    0.000000  \n",
       "25%      0.000000    7.910400    0.000000    0.000000    0.000000  \n",
       "50%      0.000000   14.454200    0.000000    1.000000    1.000000  \n",
       "75%      0.000000   31.000000    0.000000    1.000000    1.000000  \n",
       "max      6.000000  512.329200    1.000000    1.000000    1.000000  "
      ]
     },
     "execution_count": 9,
     "metadata": {},
     "output_type": "execute_result"
    }
   ],
   "source": [
    "ws = Workspace.from_config()\n",
    "\n",
    "# Name of the experiment\n",
    "experiment_name = 'capstone_project'\n",
    "experiment=Experiment(ws, experiment_name)\n",
    "\n",
    "# Get the data of Kaggle Titanic Dataset\n",
    "key = \"TitanicDataset\"\n",
    "print(ws.datasets.keys())\n",
    "if key in ws.datasets.keys(): \n",
    "    print(ws.datasets.keys())\n",
    "    found = True\n",
    "    dataset = ws.datasets[key] \n",
    "\n",
    "else:\n",
    "    # Create AML Dataset and register it into Workspace\n",
    "    example_data = 'https://raw.githubusercontent.com/clasimoes/nd00333-capstone/master/titanic_data/full_capstone.csv'\n",
    "    dataset = Dataset.Tabular.from_delimited_files(example_data)\n",
    "    #Register Dataset in Workspace\n",
    "    dataset = dataset.register(workspace=ws,\n",
    "                               name=key, create_new_version=True)\n",
    "\n",
    "\n",
    "df = dataset.to_pandas_dataframe()\n",
    "df.describe()"
   ]
  },
  {
   "cell_type": "code",
   "execution_count": 55,
   "metadata": {},
   "outputs": [],
   "source": [
    "#### Change the data type of label column from decimal to integer"
   ]
  },
  {
   "cell_type": "code",
   "execution_count": 28,
   "metadata": {},
   "outputs": [
    {
     "name": "stdout",
     "output_type": "stream",
     "text": [
      "Validating arguments.\n",
      "Arguments validated.\n",
      "Successfully obtained datastore reference and path.\n",
      "Uploading file to TitanicData2/e1c6cf67-0963-42d5-827f-2d0abb4cab99/\n",
      "Successfully uploaded file to datastore.\n",
      "Creating and registering a new dataset.\n",
      "Successfully created and registered a new dataset.\n"
     ]
    }
   ],
   "source": [
    "# from azureml.core import Workspace, Dataset\n",
    "df['Survived'] = df['Survived'].astype(int)\n",
    "updated_dataset = Dataset.Tabular.register_pandas_dataframe(\n",
    "    dataframe=df,\n",
    "    target=(ws.get_default_datastore(), 'TitanicData2'),\n",
    "    name='TitanicData2',\n",
    "    show_progress=True\n",
    ")"
   ]
  },
  {
   "cell_type": "markdown",
   "metadata": {},
   "source": [
    "### Create a compute cluster\n",
    "\n",
    "We create here a compute cluster to run the experiment. In this cluster, we provise 2-10 machines with the \"STANDARD_DS12_V2\" configuration."
   ]
  },
  {
   "cell_type": "code",
   "execution_count": 11,
   "metadata": {},
   "outputs": [
    {
     "name": "stdout",
     "output_type": "stream",
     "text": [
      "InProgress..\n",
      "SucceededProvisioning operation finished, operation \"Succeeded\"\n",
      "Succeeded..................................................................................................................\n",
      "AmlCompute wait for completion finished\n",
      "\n",
      "Wait timeout has been reached\n",
      "Current provisioning state of AmlCompute is \"Succeeded\" and current node count is \"0\"\n"
     ]
    }
   ],
   "source": [
    "from azureml.core.compute import AmlCompute\n",
    "from azureml.core.compute import ComputeTarget\n",
    "from azureml.core.compute_target import ComputeTargetException\n",
    "\n",
    "# NOTE: update the cluster name to match the existing cluster\n",
    "# Choose a name for your CPU cluster\n",
    "amlcompute_cluster_name = \"cluster-capstone\"\n",
    "\n",
    "# Verify that cluster does not exist already\n",
    "try:\n",
    "    compute_target = ComputeTarget(workspace=ws, name=amlcompute_cluster_name)\n",
    "    print('Found existing cluster, use it.')\n",
    "except ComputeTargetException:\n",
    "    compute_config = AmlCompute.provisioning_configuration(vm_size='STANDARD_DS3_V2',# for GPU, use \"STANDARD_NC6\"\n",
    "                                                           #vm_priority = 'lowpriority', # optional\n",
    "                                                           max_nodes=10)\n",
    "    compute_target = ComputeTarget.create(ws, amlcompute_cluster_name, compute_config)\n",
    "\n",
    "compute_target.wait_for_completion(show_output=True, min_node_count = 2, timeout_in_minutes = 10)"
   ]
  },
  {
   "cell_type": "markdown",
   "metadata": {},
   "source": [
    "## AutoML Configuration\n",
    "\n",
    "The task here is to classify if each passenger survived the Titanic shipwreck or not, what led us to provide the column \"Survived\" as the classification target.\n",
    "Because we have 10 nodes in our cluster, we are able to run up to 9 concurrent iterations in our experiment (1 node is meant to be used by the \"parent\" experiment). We have chosen accuracy as the primary metric to be optimized. Featurization is set to auto, leaving data to be automatically scaled and normalized by AutoML. "
   ]
  },
  {
   "cell_type": "code",
   "execution_count": 29,
   "metadata": {
    "gather": {
     "logged": 1598429217746
    },
    "jupyter": {
     "outputs_hidden": false,
     "source_hidden": false
    },
    "nteract": {
     "transient": {
      "deleting": false
     }
    }
   },
   "outputs": [],
   "source": [
    "# TODO: Put your automl settings here\n",
    "automl_settings = {\"max_concurrent_iterations\": 4,\n",
    "                   \"primary_metric\" : 'accuracy'\n",
    "}\n",
    "project_folder = './capstone-project'\n",
    "\n",
    "# TODO: Put your automl config here\n",
    "automl_config = AutoMLConfig(compute_target=compute_target,\n",
    "                             task = \"classification\",\n",
    "                             experiment_timeout_minutes = 20,\n",
    "                             training_data=updated_dataset,\n",
    "                             label_column_name=\"Survived\",   \n",
    "                             path = project_folder,\n",
    "                             enable_early_stopping= True,\n",
    "                             featurization= 'auto',\n",
    "                             **automl_settings)"
   ]
  },
  {
   "cell_type": "code",
   "execution_count": 30,
   "metadata": {
    "gather": {
     "logged": 1598431107951
    },
    "jupyter": {
     "outputs_hidden": false,
     "source_hidden": false
    },
    "nteract": {
     "transient": {
      "deleting": false
     }
    }
   },
   "outputs": [
    {
     "name": "stdout",
     "output_type": "stream",
     "text": [
      "Submitting remote run.\n"
     ]
    },
    {
     "data": {
      "text/html": [
       "<table style=\"width:100%\"><tr><th>Experiment</th><th>Id</th><th>Type</th><th>Status</th><th>Details Page</th><th>Docs Page</th></tr><tr><td>capstone_project</td><td>AutoML_054d496a-23c1-4a94-aace-2daf4dca2f3a</td><td>automl</td><td>NotStarted</td><td><a href=\"https://ml.azure.com/runs/AutoML_054d496a-23c1-4a94-aace-2daf4dca2f3a?wsid=/subscriptions/9a7511b8-150f-4a58-8528-3e7d50216c31/resourcegroups/aml-quickstarts-242438/workspaces/quick-starts-ws-242438&amp;tid=660b3398-b80e-49d2-bc5b-ac1dc93b5254\" target=\"_blank\" rel=\"noopener\">Link to Azure Machine Learning studio</a></td><td><a href=\"https://docs.microsoft.com/en-us/python/api/overview/azure/ml/intro?view=azure-ml-py\" target=\"_blank\" rel=\"noopener\">Link to Documentation</a></td></tr></table>"
      ]
     },
     "metadata": {},
     "output_type": "display_data"
    }
   ],
   "source": [
    "# TODO: Submit your experiment\n",
    "# RemoteRun is an object of type AutoMLRun\n",
    "remote_run = experiment.submit(automl_config, show_output=False)"
   ]
  },
  {
   "cell_type": "markdown",
   "metadata": {},
   "source": [
    "## Run Details\n",
    "\n",
    "`RunDetails` widget shows the run status per job."
   ]
  },
  {
   "cell_type": "code",
   "execution_count": 31,
   "metadata": {
    "gather": {
     "logged": 1598431121770
    },
    "jupyter": {
     "outputs_hidden": false,
     "source_hidden": false
    },
    "nteract": {
     "transient": {
      "deleting": false
     }
    },
    "scrolled": true
   },
   "outputs": [
    {
     "data": {
      "application/vnd.jupyter.widget-view+json": {
       "model_id": "7a5ce97b3dcf4d1699f81f3fc13a1dbf",
       "version_major": 2,
       "version_minor": 0
      },
      "text/plain": [
       "_AutoMLWidget(widget_settings={'childWidgetDisplay': 'popup', 'send_telemetry': False, 'log_level': 'INFO', 's…"
      ]
     },
     "metadata": {},
     "output_type": "display_data"
    },
    {
     "data": {
      "application/aml.mini.widget.v1": "{\"status\": \"Completed\", \"workbench_run_details_uri\": \"https://ml.azure.com/runs/AutoML_054d496a-23c1-4a94-aace-2daf4dca2f3a?wsid=/subscriptions/9a7511b8-150f-4a58-8528-3e7d50216c31/resourcegroups/aml-quickstarts-242438/workspaces/quick-starts-ws-242438&tid=660b3398-b80e-49d2-bc5b-ac1dc93b5254\", \"run_id\": \"AutoML_054d496a-23c1-4a94-aace-2daf4dca2f3a\", \"run_properties\": {\"run_id\": \"AutoML_054d496a-23c1-4a94-aace-2daf4dca2f3a\", \"created_utc\": \"2023-10-08T01:04:25.578173Z\", \"properties\": {\"num_iterations\": \"1000\", \"training_type\": \"TrainFull\", \"acquisition_function\": \"EI\", \"primary_metric\": \"accuracy\", \"train_split\": \"0\", \"acquisition_parameter\": \"0\", \"num_cross_validation\": null, \"target\": \"cluster-capstone\", \"AMLSettingsJsonString\": \"{\\\"path\\\":null,\\\"name\\\":\\\"capstone_project\\\",\\\"subscription_id\\\":\\\"9a7511b8-150f-4a58-8528-3e7d50216c31\\\",\\\"resource_group\\\":\\\"aml-quickstarts-242438\\\",\\\"workspace_name\\\":\\\"quick-starts-ws-242438\\\",\\\"region\\\":\\\"southcentralus\\\",\\\"compute_target\\\":\\\"cluster-capstone\\\",\\\"spark_service\\\":null,\\\"azure_service\\\":\\\"remote\\\",\\\"many_models\\\":false,\\\"pipeline_fetch_max_batch_size\\\":1,\\\"enable_batch_run\\\":true,\\\"enable_parallel_run\\\":false,\\\"num_procs\\\":null,\\\"enable_run_restructure\\\":false,\\\"start_auxiliary_runs_before_parent_complete\\\":false,\\\"enable_code_generation\\\":true,\\\"iterations\\\":1000,\\\"primary_metric\\\":\\\"accuracy\\\",\\\"task_type\\\":\\\"classification\\\",\\\"positive_label\\\":null,\\\"data_script\\\":null,\\\"test_size\\\":0.0,\\\"test_include_predictions_only\\\":false,\\\"validation_size\\\":0.0,\\\"n_cross_validations\\\":null,\\\"y_min\\\":null,\\\"y_max\\\":null,\\\"num_classes\\\":null,\\\"featurization\\\":\\\"auto\\\",\\\"_ignore_package_version_incompatibilities\\\":false,\\\"is_timeseries\\\":false,\\\"max_cores_per_iteration\\\":1,\\\"max_concurrent_iterations\\\":4,\\\"iteration_timeout_minutes\\\":null,\\\"mem_in_mb\\\":null,\\\"enforce_time_on_windows\\\":false,\\\"experiment_timeout_minutes\\\":20,\\\"experiment_exit_score\\\":null,\\\"partition_column_names\\\":null,\\\"whitelist_models\\\":null,\\\"blacklist_algos\\\":[\\\"TensorFlowLinearClassifier\\\",\\\"TensorFlowDNN\\\"],\\\"supported_models\\\":[\\\"GradientBoosting\\\",\\\"TensorFlowLinearClassifier\\\",\\\"TabnetClassifier\\\",\\\"KNN\\\",\\\"LogisticRegression\\\",\\\"DecisionTree\\\",\\\"XGBoostClassifier\\\",\\\"AveragedPerceptronClassifier\\\",\\\"LinearSVM\\\",\\\"MultinomialNaiveBayes\\\",\\\"SGD\\\",\\\"RandomForest\\\",\\\"ExtremeRandomTrees\\\",\\\"LightGBM\\\",\\\"BernoulliNaiveBayes\\\",\\\"TensorFlowDNN\\\",\\\"SVM\\\"],\\\"private_models\\\":[],\\\"auto_blacklist\\\":true,\\\"blacklist_samples_reached\\\":false,\\\"exclude_nan_labels\\\":true,\\\"verbosity\\\":20,\\\"_debug_log\\\":\\\"azureml_automl.log\\\",\\\"show_warnings\\\":false,\\\"model_explainability\\\":true,\\\"service_url\\\":null,\\\"sdk_url\\\":null,\\\"sdk_packages\\\":null,\\\"enable_onnx_compatible_models\\\":false,\\\"enable_split_onnx_featurizer_estimator_models\\\":false,\\\"vm_type\\\":\\\"STANDARD_DS3_V2\\\",\\\"telemetry_verbosity\\\":20,\\\"send_telemetry\\\":true,\\\"enable_dnn\\\":false,\\\"scenario\\\":\\\"AutoML\\\",\\\"environment_label\\\":null,\\\"save_mlflow\\\":false,\\\"enable_categorical_indicators\\\":false,\\\"force_text_dnn\\\":false,\\\"enable_feature_sweeping\\\":true,\\\"enable_early_stopping\\\":true,\\\"early_stopping_n_iters\\\":10,\\\"arguments\\\":null,\\\"dataset_id\\\":\\\"7fae1c3c-df3a-4a2f-b5f1-989d28768499\\\",\\\"hyperdrive_config\\\":null,\\\"validation_dataset_id\\\":null,\\\"run_source\\\":null,\\\"metrics\\\":null,\\\"enable_metric_confidence\\\":false,\\\"enable_ensembling\\\":true,\\\"enable_stack_ensembling\\\":true,\\\"ensemble_iterations\\\":15,\\\"enable_tf\\\":false,\\\"enable_subsampling\\\":null,\\\"subsample_seed\\\":null,\\\"enable_nimbusml\\\":false,\\\"enable_streaming\\\":false,\\\"force_streaming\\\":false,\\\"track_child_runs\\\":true,\\\"n_best_runs\\\":1,\\\"allowed_private_models\\\":[],\\\"label_column_name\\\":\\\"Survived\\\",\\\"weight_column_name\\\":null,\\\"cv_split_column_names\\\":null,\\\"enable_local_managed\\\":false,\\\"_local_managed_run_id\\\":null,\\\"cost_mode\\\":1,\\\"lag_length\\\":0,\\\"metric_operation\\\":\\\"maximize\\\",\\\"preprocess\\\":true}\", \"DataPrepJsonString\": \"{\\\\\\\"training_data\\\\\\\": {\\\\\\\"datasetId\\\\\\\": \\\\\\\"7fae1c3c-df3a-4a2f-b5f1-989d28768499\\\\\\\"}, \\\\\\\"datasets\\\\\\\": 0}\", \"EnableSubsampling\": null, \"runTemplate\": \"AutoML\", \"azureml.runsource\": \"automl\", \"display_task_type\": \"classification\", \"dependencies_versions\": \"{\\\"azureml-dataprep-native\\\": \\\"38.0.0\\\", \\\"azureml-dataprep\\\": \\\"4.10.8\\\", \\\"azureml-dataprep-rslex\\\": \\\"2.17.12\\\", \\\"azureml-train-automl-runtime\\\": \\\"1.51.0.post2\\\", \\\"azureml-train-automl-client\\\": \\\"1.51.0.post1\\\", \\\"azureml-training-tabular\\\": \\\"1.51.0.post1\\\", \\\"azureml-automl-runtime\\\": \\\"1.51.0.post1\\\", \\\"azureml-automl-core\\\": \\\"1.51.0.post1\\\", \\\"azureml-mlflow\\\": \\\"1.51.0\\\", \\\"azureml-datadrift\\\": \\\"1.51.0\\\", \\\"azureml-pipeline\\\": \\\"1.51.0\\\", \\\"azureml-contrib-dataset\\\": \\\"1.51.0\\\", \\\"azureml-contrib-notebook\\\": \\\"1.51.0\\\", \\\"azureml-accel-models\\\": \\\"1.51.0\\\", \\\"azureml-automl-dnn-nlp\\\": \\\"1.51.0\\\", \\\"azureml-pipeline-core\\\": \\\"1.51.0\\\", \\\"azureml-responsibleai\\\": \\\"1.51.0\\\", \\\"azureml-contrib-automl-pipeline-steps\\\": \\\"1.51.0\\\", \\\"azureml-pipeline-steps\\\": \\\"1.51.0\\\", \\\"azureml-core\\\": \\\"1.51.0\\\", \\\"azureml-contrib-reinforcementlearning\\\": \\\"1.51.0\\\", \\\"azureml-contrib-server\\\": \\\"1.51.0\\\", \\\"azureml-opendatasets\\\": \\\"1.51.0\\\", \\\"azureml-contrib-services\\\": \\\"1.51.0\\\", \\\"azureml-telemetry\\\": \\\"1.51.0\\\", \\\"azureml-train-restclients-hyperdrive\\\": \\\"1.51.0\\\", \\\"azureml-interpret\\\": \\\"1.51.0\\\", \\\"azureml-train-core\\\": \\\"1.51.0\\\", \\\"azureml-tensorboard\\\": \\\"1.51.0\\\", \\\"azureml-train\\\": \\\"1.51.0\\\", \\\"azureml-contrib-pipeline-steps\\\": \\\"1.51.0\\\", \\\"azureml-explain-model\\\": \\\"1.51.0\\\", \\\"azureml-cli-common\\\": \\\"1.51.0\\\", \\\"azureml-widgets\\\": \\\"1.51.0\\\", \\\"azureml-train-automl\\\": \\\"1.51.0\\\", \\\"azureml-defaults\\\": \\\"1.51.0\\\", \\\"azureml-contrib-fairness\\\": \\\"1.51.0\\\", \\\"azureml-sdk\\\": \\\"1.51.0\\\", \\\"azureml-dataset-runtime\\\": \\\"1.51.0\\\", \\\"azureml-inference-server-http\\\": \\\"0.8.4\\\"}\", \"_aml_system_scenario_identification\": \"Remote.Parent\", \"ClientType\": \"SDK\", \"PlatformVersion\": \"DPV1\", \"environment_cpu_name\": \"AzureML-AutoML\", \"environment_cpu_label\": \"prod\", \"environment_gpu_name\": \"AzureML-AutoML-GPU\", \"environment_gpu_label\": \"prod\", \"root_attribution\": \"automl\", \"attribution\": \"AutoML\", \"Orchestrator\": \"AutoML\", \"CancelUri\": \"https://southcentralus.api.azureml.ms/jasmine/v1.0/subscriptions/9a7511b8-150f-4a58-8528-3e7d50216c31/resourceGroups/aml-quickstarts-242438/providers/Microsoft.MachineLearningServices/workspaces/quick-starts-ws-242438/experimentids/7b822887-da80-4b54-a8de-f25ae4eb6ccf/cancel/AutoML_054d496a-23c1-4a94-aace-2daf4dca2f3a\", \"ClientSdkVersion\": null, \"snapshotId\": \"00000000-0000-0000-0000-000000000000\", \"SetupRunId\": \"AutoML_054d496a-23c1-4a94-aace-2daf4dca2f3a_setup\", \"SetupRunContainerId\": \"dcid.AutoML_054d496a-23c1-4a94-aace-2daf4dca2f3a_setup\", \"FeaturizationRunJsonPath\": \"featurizer_container.json\", \"FeaturizationRunId\": \"AutoML_054d496a-23c1-4a94-aace-2daf4dca2f3a_featurize\", \"ProblemInfoJsonString\": \"{\\\"dataset_num_categorical\\\": 0, \\\"is_sparse\\\": true, \\\"subsampling\\\": false, \\\"has_extra_col\\\": true, \\\"dataset_classes\\\": 2, \\\"dataset_features\\\": 6971, \\\"dataset_samples\\\": 891, \\\"single_frequency_class_detected\\\": false}\", \"ModelExplainRunId\": \"AutoML_054d496a-23c1-4a94-aace-2daf4dca2f3a_ModelExplain\"}, \"tags\": {\"model_explain_run\": \"best_run\", \"_aml_system_automl_run_workspace_id\": \"25a57bfb-d2c7-4ce0-b74d-3d00bf800e72\", \"_aml_system_azureml.automlComponent\": \"AutoML\", \"pipeline_id_000\": \"5dfac790c5c209f98a1da2dc1c7fb76f0397324f;c7af0367625be6ac5c2fecbfc72ed444cb7a2111;799d2168db11fc19b9e1c6c1df62f8981ad39fe9;44b5d2d23120dfcf96a7dc6389a293d17a966b1b;3735210984ea10097d5c91905cf6300ac278cd89;5304e705d6f401cb07f85bcf0ca59ac1f84dfcf5;294650ec23bc3d067a4972de7ceb12f6e97260fa;3caa818370e5e0c328d6266c359019bd31681270;79ebb3b8c385e3190e3dd4c1fa28b74730528045;589334a57221e0720a95cf217c065115a7b841d1;5a8eb9d9f67b1dd7e9e4062585daa2417ea78989;1dfdf370ba770047b14bfa59c40920815defcdab;35b8e2db3c5f6e714072e1be9f0210fe48426975;5235e3d56688f5f38ef82d73fba7c2e698fc1af2;da45f657e4591caadf1589a85a1f7b8932585595;17f87d449bb43aaf3cdae4b7eb6dd6e7fbdaf343;797e3e972ad02d947be4c64d2b06b775b6df7a49;3fd2e115482e0c7b92aa3297688aefb6c3aa6fb8;dc68fbd594530b5d52812dd9b3ffa3d6d8ba625e;e478544eb8734c07a1943f5bdf4e6605be6943df;2032292dd602836ed754a266c771ac100c4c80dc;f52e31edb9a1c79d3094620546ebbc7788edbaf8;1b9ea9b05e1aba0cfbaa30fae26f336a29920979;fedbb4995d6de479c513576119965d71276f03d1;d6c229673f6de58ae86c40c49548df556b760ffd;8cb70774adbfaf1a95780a248e76a10691b2d3ce;358f170d348cb6ef2fe988e68ec34947c51f0892;6977469fff33c0fda81e33f0cb118152790836ca;c76016cd7d280d97dffb6e852a7a58d13478cf1f;515f127700827533a1efc89638761f6f78d22359;cca0ed1d848f1ee207fe3fe4b1c5b6feaa1db46b;9922adc4badc47401611bc66ec6c59d2897f6b25;0093766385255906bee0151beed775f777da809b;7f171f9a0f518f2da273bb7f6aa8e86de81daf48;8e63d5bf9258fb932a477c11b1a7d3bf48bb1f68;6558ff5c9c4a69f3627098884d2a83cc66190e1f;__AutoML_Ensemble__;__AutoML_Stack_Ensemble__\", \"score_000\": \"0.8181772784019975;0.8226841448189763;0.7979900124843945;0.8102621722846441;0.8092134831460674;0.8170411985018726;0.7934456928838951;0.8080524344569288;0.795717852684145;0.8125468164794007;0.8237578027465666;0.7957428214731586;0.8058426966292135;0.8136828963795256;0.8013233458177279;0.8181647940074906;0.8058177278401997;0.8203870162297129;0.8249063670411985;0.8114856429463171;0.7857178526841448;0.7732833957553058;0.8091885143570536;0.8192883895131086;0.8215355805243444;0.6161048689138577;0.7856304619225968;0.8058052434456929;0.7822721598002498;0.8125717852684146;0.811398252184769;0.7755305867665419;0.7811485642946318;NaN;0.7811485642946318;0.7777403245942571;0.8417478152309613;0.8305118601747814\", \"predicted_cost_000\": \"0;0;0.5;0.5;0.5;0.5;0.5;0.5;0.5;0.5;0.5;0.5;0.5;0.5;0.5;0.5;0.5;0.5;0.5;0.15052811587979528;0.5;0.6348688032264631;0.17597732828214915;0.6736652340487483;0.18183350240340518;0.02723821531086178;0.5272902169991626;0.1808730388085323;1.2651154601970245;0.17054988882471472;0.6364115051403806;0.10259744638769663;0.33886549880800315;0.1282565449102055;0.10313376683019095;0.2711153646140995;0;0\", \"fit_time_000\": \"0.169275;1.1083145;0.23791830000000003;0.16261019999999998;0.13942839999999998;0.0967052;0.136097;0.41230269999999997;0.07499560000000001;0.1106267;0.0473852;0.3248642;0.12320740000000001;0.1571717;0.352124;0.3178826;0.030955500000000004;0.1803033;0.3814996;0.24605019999999994;1.6642342999999997;0.29818920000000004;0.2650495;1.5662660000000002;0.0770748;0.11538419999999998;0.45217219999999997;0.0559847;1.1140294000000002;0.1469323;0.6577914;0.027252900000000004;0.5830107;NaN;0.297229;0.2327061;24;30\", \"training_percent_000\": \"100;100;100;100;100;100;100;100;100;100;100;100;100;100;100;100;100;100;100;100;100;100;100;100;100;100;100;100;100;100;100;100;100;100;100;100;100;100\", \"iteration_000\": \"0;1;2;3;4;5;6;7;8;9;10;15;11;16;12;17;13;14;18;21;19;23;22;20;25;24;26;28;27;29;30;32;31;35;33;34;36;37\", \"run_preprocessor_000\": \"MaxAbsScaler;MaxAbsScaler;MaxAbsScaler;SparseNormalizer;MaxAbsScaler;MaxAbsScaler;StandardScalerWrapper;MaxAbsScaler;StandardScalerWrapper;StandardScalerWrapper;SparseNormalizer;SparseNormalizer;StandardScalerWrapper;StandardScalerWrapper;MaxAbsScaler;StandardScalerWrapper;MaxAbsScaler;StandardScalerWrapper;StandardScalerWrapper;StandardScalerWrapper;TruncatedSVDWrapper;StandardScalerWrapper;SparseNormalizer;TruncatedSVDWrapper;MaxAbsScaler;StandardScalerWrapper;StandardScalerWrapper;StandardScalerWrapper;MaxAbsScaler;SparseNormalizer;SparseNormalizer;StandardScalerWrapper;StandardScalerWrapper;;StandardScalerWrapper;SparseNormalizer;;\", \"run_algorithm_000\": \"LightGBM;XGBoostClassifier;ExtremeRandomTrees;XGBoostClassifier;LightGBM;LightGBM;XGBoostClassifier;LogisticRegression;ExtremeRandomTrees;XGBoostClassifier;LightGBM;RandomForest;XGBoostClassifier;LogisticRegression;LogisticRegression;RandomForest;SGD;XGBoostClassifier;XGBoostClassifier;XGBoostClassifier;RandomForest;LogisticRegression;XGBoostClassifier;RandomForest;LightGBM;XGBoostClassifier;RandomForest;LightGBM;RandomForest;XGBoostClassifier;XGBoostClassifier;RandomForest;RandomForest;;ExtremeRandomTrees;RandomForest;VotingEnsemble;StackEnsemble\", \"dynamic_allowlisting_iterations\": \"<24>;<30>;<35>;\", \"_aml_system_azureml.automl_early_exit_message\": \"No scores improved over last 10 iterations, so experiment stopped early. This early stopping behavior can be disabled by setting enable_early_stopping = False in AutoMLConfig for notebook/python SDK runs.\", \"automl_best_child_run_id\": \"AutoML_054d496a-23c1-4a94-aace-2daf4dca2f3a_36\", \"model_explain_best_run_child_id\": \"AutoML_054d496a-23c1-4a94-aace-2daf4dca2f3a_36\"}, \"end_time_utc\": \"2023-10-08T01:23:06.358903Z\", \"status\": \"Completed\", \"log_files\": {}, \"log_groups\": [], \"run_duration\": \"0:18:40\", \"run_number\": \"1696727065\", \"run_queued_details\": {\"status\": \"Completed\", \"details\": null}}, \"child_runs\": [{\"run_id\": \"AutoML_054d496a-23c1-4a94-aace-2daf4dca2f3a_setup\", \"run_number\": 1696727079, \"metric\": null, \"status\": \"Completed\", \"run_type\": \"azureml.scriptrun\", \"training_percent\": null, \"start_time\": \"2023-10-08T01:07:08.63592Z\", \"end_time\": \"2023-10-08T01:10:06.276387Z\", \"created_time\": \"2023-10-08T01:04:39.158818Z\", \"created_time_dt\": \"2023-10-08T01:04:39.158818Z\", \"duration\": \"0:05:27\", \"iteration\": null, \"goal\": null, \"run_name\": \"Completed\", \"run_properties\": null}, {\"run_id\": \"AutoML_054d496a-23c1-4a94-aace-2daf4dca2f3a_featurize\", \"run_number\": 1696727406, \"metric\": null, \"status\": \"Completed\", \"run_type\": \"automl.featurization\", \"training_percent\": null, \"start_time\": \"2023-10-08T01:10:06.78008Z\", \"end_time\": \"2023-10-08T01:12:32.982684Z\", \"created_time\": \"2023-10-08T01:10:06.518843Z\", \"created_time_dt\": \"2023-10-08T01:10:06.518843Z\", \"duration\": \"0:02:26\", \"iteration\": null, \"goal\": null, \"run_name\": \"Completed\", \"run_properties\": null}, {\"run_id\": \"AutoML_054d496a-23c1-4a94-aace-2daf4dca2f3a_0\", \"run_number\": 1696727554, \"metric\": null, \"status\": \"Completed\", \"run_type\": null, \"training_percent\": \"100\", \"start_time\": \"2023-10-08T01:12:56.309807Z\", \"end_time\": \"2023-10-08T01:13:12.527021Z\", \"created_time\": \"2023-10-08T01:12:34.554338Z\", \"created_time_dt\": \"2023-10-08T01:12:34.554338Z\", \"duration\": \"0:00:37\", \"iteration\": \"0\", \"goal\": \"accuracy_max\", \"run_name\": \"MaxAbsScaler, LightGBM\", \"run_properties\": \"copy=True\", \"primary_metric\": 0.81817728, \"best_metric\": 0.81817728}, {\"run_id\": \"AutoML_054d496a-23c1-4a94-aace-2daf4dca2f3a_1\", \"run_number\": 1696727555, \"metric\": null, \"status\": \"Completed\", \"run_type\": null, \"training_percent\": \"100\", \"start_time\": \"2023-10-08T01:13:13.266117Z\", \"end_time\": \"2023-10-08T01:13:37.424022Z\", \"created_time\": \"2023-10-08T01:12:35.25955Z\", \"created_time_dt\": \"2023-10-08T01:12:35.25955Z\", \"duration\": \"0:01:02\", \"iteration\": \"1\", \"goal\": \"accuracy_max\", \"run_name\": \"MaxAbsScaler, XGBoostClassifier\", \"run_properties\": \"copy=True\", \"primary_metric\": 0.82268414, \"best_metric\": 0.82268414}, {\"run_id\": \"AutoML_054d496a-23c1-4a94-aace-2daf4dca2f3a_3\", \"run_number\": 1696727556, \"metric\": null, \"status\": \"Completed\", \"run_type\": null, \"training_percent\": \"100\", \"start_time\": \"2023-10-08T01:13:53.138864Z\", \"end_time\": \"2023-10-08T01:14:06.536818Z\", \"created_time\": \"2023-10-08T01:12:36.265177Z\", \"created_time_dt\": \"2023-10-08T01:12:36.265177Z\", \"duration\": \"0:01:30\", \"iteration\": \"3\", \"goal\": \"accuracy_max\", \"run_name\": \"SparseNormalizer, XGBoostClassifier\", \"run_properties\": \"copy=True, norm='l2'\", \"primary_metric\": 0.81026217, \"best_metric\": 0.82268414}, {\"run_id\": \"AutoML_054d496a-23c1-4a94-aace-2daf4dca2f3a_worker_0\", \"run_number\": 1696727557, \"metric\": null, \"status\": \"Completed\", \"run_type\": \"azureml.scriptrun\", \"training_percent\": null, \"start_time\": \"2023-10-08T01:12:46.631136Z\", \"end_time\": \"2023-10-08T01:14:30.21453Z\", \"created_time\": \"2023-10-08T01:12:37.109926Z\", \"created_time_dt\": \"2023-10-08T01:12:37.109926Z\", \"duration\": \"0:01:53\", \"iteration\": null, \"goal\": null, \"run_name\": \"Completed\", \"run_properties\": null}, {\"run_id\": \"AutoML_054d496a-23c1-4a94-aace-2daf4dca2f3a_7\", \"run_number\": 1696727558, \"metric\": null, \"status\": \"Completed\", \"run_type\": null, \"training_percent\": \"100\", \"start_time\": \"2023-10-08T01:15:15.292798Z\", \"end_time\": \"2023-10-08T01:15:31.630852Z\", \"created_time\": \"2023-10-08T01:12:38.35292Z\", \"created_time_dt\": \"2023-10-08T01:12:38.35292Z\", \"duration\": \"0:02:53\", \"iteration\": \"7\", \"goal\": \"accuracy_max\", \"run_name\": \"MaxAbsScaler, LogisticRegression\", \"run_properties\": \"copy=True\", \"primary_metric\": 0.80805243, \"best_metric\": 0.82268414}, {\"run_id\": \"AutoML_054d496a-23c1-4a94-aace-2daf4dca2f3a_worker_1\", \"run_number\": 1696727559, \"metric\": null, \"status\": \"Completed\", \"run_type\": \"azureml.scriptrun\", \"training_percent\": null, \"start_time\": \"2023-10-08T01:14:35.833681Z\", \"end_time\": \"2023-10-08T01:16:07.5163Z\", \"created_time\": \"2023-10-08T01:12:39.679714Z\", \"created_time_dt\": \"2023-10-08T01:12:39.679714Z\", \"duration\": \"0:03:27\", \"iteration\": null, \"goal\": null, \"run_name\": \"Completed\", \"run_properties\": null}, {\"run_id\": \"AutoML_054d496a-23c1-4a94-aace-2daf4dca2f3a_11\", \"run_number\": 1696727560, \"metric\": null, \"status\": \"Completed\", \"run_type\": null, \"training_percent\": \"100\", \"start_time\": \"2023-10-08T01:16:37.524778Z\", \"end_time\": \"2023-10-08T01:16:50.274365Z\", \"created_time\": \"2023-10-08T01:12:40.338287Z\", \"created_time_dt\": \"2023-10-08T01:12:40.338287Z\", \"duration\": \"0:04:09\", \"iteration\": \"11\", \"goal\": \"accuracy_max\", \"run_name\": \"StandardScalerWrapper, XGBoostClassifier\", \"run_properties\": \"copy=True, with_mean=False, with_std=False\", \"primary_metric\": 0.8058427, \"best_metric\": 0.82268414}, {\"run_id\": \"AutoML_054d496a-23c1-4a94-aace-2daf4dca2f3a_13\", \"run_number\": 1696727561, \"metric\": null, \"status\": \"Completed\", \"run_type\": null, \"training_percent\": \"100\", \"start_time\": \"2023-10-08T01:17:07.598189Z\", \"end_time\": \"2023-10-08T01:17:19.423439Z\", \"created_time\": \"2023-10-08T01:12:41.257562Z\", \"created_time_dt\": \"2023-10-08T01:12:41.257562Z\", \"duration\": \"0:04:38\", \"iteration\": \"13\", \"goal\": \"accuracy_max\", \"run_name\": \"MaxAbsScaler, SGD\", \"run_properties\": \"copy=True\", \"primary_metric\": 0.80581773, \"best_metric\": 0.82268414}, {\"run_id\": \"AutoML_054d496a-23c1-4a94-aace-2daf4dca2f3a_worker_2\", \"run_number\": 1696727562, \"metric\": null, \"status\": \"Completed\", \"run_type\": \"azureml.scriptrun\", \"training_percent\": null, \"start_time\": \"2023-10-08T01:14:49.293129Z\", \"end_time\": \"2023-10-08T01:17:42.649001Z\", \"created_time\": \"2023-10-08T01:12:42.123904Z\", \"created_time_dt\": \"2023-10-08T01:12:42.123904Z\", \"duration\": \"0:05:00\", \"iteration\": null, \"goal\": null, \"run_name\": \"Completed\", \"run_properties\": null}, {\"run_id\": \"AutoML_054d496a-23c1-4a94-aace-2daf4dca2f3a_17\", \"run_number\": 1696727563, \"metric\": null, \"status\": \"Completed\", \"run_type\": null, \"training_percent\": \"100\", \"start_time\": \"2023-10-08T01:17:01.894678Z\", \"end_time\": \"2023-10-08T01:17:17.275391Z\", \"created_time\": \"2023-10-08T01:12:43.189938Z\", \"created_time_dt\": \"2023-10-08T01:12:43.189938Z\", \"duration\": \"0:04:34\", \"iteration\": \"17\", \"goal\": \"accuracy_max\", \"run_name\": \"StandardScalerWrapper, RandomForest\", \"run_properties\": \"copy=True, with_mean=False, with_std=False\", \"primary_metric\": 0.81816479, \"best_metric\": 0.82268414}, {\"run_id\": \"AutoML_054d496a-23c1-4a94-aace-2daf4dca2f3a_worker_3\", \"run_number\": 1696727564, \"metric\": null, \"status\": \"Completed\", \"run_type\": \"azureml.scriptrun\", \"training_percent\": null, \"start_time\": \"2023-10-08T01:14:51.565569Z\", \"end_time\": \"2023-10-08T01:18:18.39338Z\", \"created_time\": \"2023-10-08T01:12:44.414476Z\", \"created_time_dt\": \"2023-10-08T01:12:44.414476Z\", \"duration\": \"0:05:33\", \"iteration\": null, \"goal\": null, \"run_name\": \"Completed\", \"run_properties\": null}, {\"run_id\": \"AutoML_054d496a-23c1-4a94-aace-2daf4dca2f3a_21\", \"run_number\": 1696727842, \"metric\": null, \"status\": \"Completed\", \"run_type\": \"azureml.scriptrun\", \"training_percent\": \"100\", \"start_time\": \"2023-10-08T01:17:34.45588Z\", \"end_time\": \"2023-10-08T01:18:08.126771Z\", \"created_time\": \"2023-10-08T01:17:22.051448Z\", \"created_time_dt\": \"2023-10-08T01:17:22.051448Z\", \"duration\": \"0:00:46\", \"iteration\": \"21\", \"goal\": \"accuracy_max\", \"run_name\": \"StandardScalerWrapper, XGBoostClassifier\", \"run_properties\": \"copy=True, with_mean=False, with_std=False\", \"primary_metric\": 0.81148564, \"best_metric\": 0.82268414}, {\"run_id\": \"AutoML_054d496a-23c1-4a94-aace-2daf4dca2f3a_22\", \"run_number\": 1696727890, \"metric\": null, \"status\": \"Completed\", \"run_type\": \"azureml.scriptrun\", \"training_percent\": \"100\", \"start_time\": \"2023-10-08T01:18:26.742025Z\", \"end_time\": \"2023-10-08T01:19:03.075532Z\", \"created_time\": \"2023-10-08T01:18:10.339862Z\", \"created_time_dt\": \"2023-10-08T01:18:10.339862Z\", \"duration\": \"0:00:52\", \"iteration\": \"22\", \"goal\": \"accuracy_max\", \"run_name\": \"SparseNormalizer, XGBoostClassifier\", \"run_properties\": \"copy=True, norm='l1'\", \"primary_metric\": 0.80918851, \"best_metric\": 0.82268414}, {\"run_id\": \"AutoML_054d496a-23c1-4a94-aace-2daf4dca2f3a_24\", \"run_number\": 1696727944, \"metric\": null, \"status\": \"Completed\", \"run_type\": \"azureml.scriptrun\", \"training_percent\": \"100\", \"start_time\": \"2023-10-08T01:19:16.943933Z\", \"end_time\": \"2023-10-08T01:19:49.685955Z\", \"created_time\": \"2023-10-08T01:19:04.764828Z\", \"created_time_dt\": \"2023-10-08T01:19:04.764828Z\", \"duration\": \"0:00:44\", \"iteration\": \"24\", \"goal\": \"accuracy_max\", \"run_name\": \"StandardScalerWrapper, XGBoostClassifier\", \"run_properties\": \"copy=True, with_mean=False, with_std=False\", \"primary_metric\": 0.61610487, \"best_metric\": 0.82268414}, {\"run_id\": \"AutoML_054d496a-23c1-4a94-aace-2daf4dca2f3a_26\", \"run_number\": 1696727946, \"metric\": null, \"status\": \"Completed\", \"run_type\": \"azureml.scriptrun\", \"training_percent\": \"100\", \"start_time\": \"2023-10-08T01:19:23.793094Z\", \"end_time\": \"2023-10-08T01:19:58.689432Z\", \"created_time\": \"2023-10-08T01:19:06.688222Z\", \"created_time_dt\": \"2023-10-08T01:19:06.688222Z\", \"duration\": \"0:00:52\", \"iteration\": \"26\", \"goal\": \"accuracy_max\", \"run_name\": \"StandardScalerWrapper, RandomForest\", \"run_properties\": \"copy=True, with_mean=False, with_std=False\", \"primary_metric\": 0.78563046, \"best_metric\": 0.82268414}, {\"run_id\": \"AutoML_054d496a-23c1-4a94-aace-2daf4dca2f3a_27\", \"run_number\": 1696727983, \"metric\": null, \"status\": \"Completed\", \"run_type\": \"azureml.scriptrun\", \"training_percent\": \"100\", \"start_time\": \"2023-10-08T01:19:51.91574Z\", \"end_time\": \"2023-10-08T01:20:32.573152Z\", \"created_time\": \"2023-10-08T01:19:43.35759Z\", \"created_time_dt\": \"2023-10-08T01:19:43.35759Z\", \"duration\": \"0:00:49\", \"iteration\": \"27\", \"goal\": \"accuracy_max\", \"run_name\": \"MaxAbsScaler, RandomForest\", \"run_properties\": \"copy=True\", \"primary_metric\": 0.78227216, \"best_metric\": 0.82268414}, {\"run_id\": \"AutoML_054d496a-23c1-4a94-aace-2daf4dca2f3a_28\", \"run_number\": 1696727989, \"metric\": null, \"status\": \"Completed\", \"run_type\": \"azureml.scriptrun\", \"training_percent\": \"100\", \"start_time\": \"2023-10-08T01:20:00.166744Z\", \"end_time\": \"2023-10-08T01:20:31.638115Z\", \"created_time\": \"2023-10-08T01:19:49.859643Z\", \"created_time_dt\": \"2023-10-08T01:19:49.859643Z\", \"duration\": \"0:00:41\", \"iteration\": \"28\", \"goal\": \"accuracy_max\", \"run_name\": \"StandardScalerWrapper, LightGBM\", \"run_properties\": \"copy=True, with_mean=False, with_std=False\", \"primary_metric\": 0.80580524, \"best_metric\": 0.82268414}, {\"run_id\": \"AutoML_054d496a-23c1-4a94-aace-2daf4dca2f3a_29\", \"run_number\": 1696727992, \"metric\": null, \"status\": \"Completed\", \"run_type\": \"azureml.scriptrun\", \"training_percent\": \"100\", \"start_time\": \"2023-10-08T01:20:02.932738Z\", \"end_time\": \"2023-10-08T01:20:37.057656Z\", \"created_time\": \"2023-10-08T01:19:52.09091Z\", \"created_time_dt\": \"2023-10-08T01:19:52.09091Z\", \"duration\": \"0:00:44\", \"iteration\": \"29\", \"goal\": \"accuracy_max\", \"run_name\": \"SparseNormalizer, XGBoostClassifier\", \"run_properties\": \"copy=True, norm='l1'\", \"primary_metric\": 0.81257179, \"best_metric\": 0.82268414}, {\"run_id\": \"AutoML_054d496a-23c1-4a94-aace-2daf4dca2f3a_30\", \"run_number\": 1696728000, \"metric\": null, \"status\": \"Completed\", \"run_type\": \"azureml.scriptrun\", \"training_percent\": \"100\", \"start_time\": \"2023-10-08T01:20:10.208082Z\", \"end_time\": \"2023-10-08T01:20:47.867889Z\", \"created_time\": \"2023-10-08T01:20:00.861116Z\", \"created_time_dt\": \"2023-10-08T01:20:00.861116Z\", \"duration\": \"0:00:47\", \"iteration\": \"30\", \"goal\": \"accuracy_max\", \"run_name\": \"SparseNormalizer, XGBoostClassifier\", \"run_properties\": \"copy=True, norm='l1'\", \"primary_metric\": 0.81139825, \"best_metric\": 0.82268414}, {\"run_id\": \"AutoML_054d496a-23c1-4a94-aace-2daf4dca2f3a_31\", \"run_number\": 1696728032, \"metric\": null, \"status\": \"Completed\", \"run_type\": \"azureml.scriptrun\", \"training_percent\": \"100\", \"start_time\": \"2023-10-08T01:20:45.789684Z\", \"end_time\": \"2023-10-08T01:21:20.288776Z\", \"created_time\": \"2023-10-08T01:20:32.960195Z\", \"created_time_dt\": \"2023-10-08T01:20:32.960195Z\", \"duration\": \"0:00:47\", \"iteration\": \"31\", \"goal\": \"accuracy_max\", \"run_name\": \"StandardScalerWrapper, RandomForest\", \"run_properties\": \"copy=True, with_mean=False, with_std=False\", \"primary_metric\": 0.78114856, \"best_metric\": 0.82268414}, {\"run_id\": \"AutoML_054d496a-23c1-4a94-aace-2daf4dca2f3a_32\", \"run_number\": 1696728034, \"metric\": null, \"status\": \"Completed\", \"run_type\": \"azureml.scriptrun\", \"training_percent\": \"100\", \"start_time\": \"2023-10-08T01:20:45.684199Z\", \"end_time\": \"2023-10-08T01:21:16.592394Z\", \"created_time\": \"2023-10-08T01:20:34.959827Z\", \"created_time_dt\": \"2023-10-08T01:20:34.959827Z\", \"duration\": \"0:00:41\", \"iteration\": \"32\", \"goal\": \"accuracy_max\", \"run_name\": \"StandardScalerWrapper, RandomForest\", \"run_properties\": \"copy=True, with_mean=False, with_std=False\", \"primary_metric\": 0.77553059, \"best_metric\": 0.82268414}, {\"run_id\": \"AutoML_054d496a-23c1-4a94-aace-2daf4dca2f3a_33\", \"run_number\": 1696728038, \"metric\": null, \"status\": \"Completed\", \"run_type\": \"azureml.scriptrun\", \"training_percent\": \"100\", \"start_time\": \"2023-10-08T01:20:47.778682Z\", \"end_time\": \"2023-10-08T01:21:23.516553Z\", \"created_time\": \"2023-10-08T01:20:38.354731Z\", \"created_time_dt\": \"2023-10-08T01:20:38.354731Z\", \"duration\": \"0:00:45\", \"iteration\": \"33\", \"goal\": \"accuracy_max\", \"run_name\": \"StandardScalerWrapper, ExtremeRandomTrees\", \"run_properties\": \"copy=True, with_mean=False, with_std=False\", \"primary_metric\": 0.78114856, \"best_metric\": 0.82268414}, {\"run_id\": \"AutoML_054d496a-23c1-4a94-aace-2daf4dca2f3a_34\", \"run_number\": 1696728049, \"metric\": null, \"status\": \"Canceled\", \"run_type\": \"azureml.scriptrun\", \"training_percent\": \"100\", \"start_time\": \"2023-10-08T01:20:59.691745Z\", \"end_time\": \"2023-10-08T01:21:27.060332Z\", \"created_time\": \"2023-10-08T01:20:49.27767Z\", \"created_time_dt\": \"2023-10-08T01:20:49.27767Z\", \"duration\": \"0:00:37\", \"iteration\": \"34\", \"goal\": \"accuracy_max\", \"run_name\": \"SparseNormalizer, RandomForest\", \"run_properties\": \"copy=True, norm='l1'\", \"primary_metric\": 0.77774032, \"best_metric\": 0.82268414}, {\"run_id\": \"AutoML_054d496a-23c1-4a94-aace-2daf4dca2f3a_35\", \"run_number\": 1696728078, \"metric\": null, \"status\": \"Canceled\", \"run_type\": \"azureml.scriptrun\", \"training_percent\": \"100\", \"start_time\": \"2023-10-08T01:21:20.970072Z\", \"end_time\": \"2023-10-08T01:21:21.644957Z\", \"created_time\": \"2023-10-08T01:21:18.758969Z\", \"created_time_dt\": \"2023-10-08T01:21:18.758969Z\", \"duration\": \"0:00:02\", \"iteration\": \"35\", \"goal\": null, \"run_name\": \"Canceled\", \"run_properties\": null}, {\"run_id\": \"AutoML_054d496a-23c1-4a94-aace-2daf4dca2f3a_36\", \"run_number\": 1696728087, \"metric\": null, \"status\": \"Completed\", \"run_type\": \"azureml.scriptrun\", \"training_percent\": \"100\", \"start_time\": \"2023-10-08T01:21:41.952908Z\", \"end_time\": \"2023-10-08T01:22:43.351061Z\", \"created_time\": \"2023-10-08T01:21:27.741236Z\", \"created_time_dt\": \"2023-10-08T01:21:27.741236Z\", \"duration\": \"0:01:15\", \"iteration\": \"36\", \"goal\": \"accuracy_max\", \"run_name\": \"VotingEnsemble\", \"run_properties\": \"classification_labels=numpy.array([0, 1]\", \"primary_metric\": 0.84174782, \"best_metric\": 0.84174782}], \"children_metrics\": {\"categories\": [0], \"series\": {\"recall_score_weighted\": [{\"categories\": [\"0\", \"1\", \"3\", \"7\", \"11\", \"13\", \"17\", \"21\", \"22\", \"24\", \"26\", \"27\", \"28\", \"29\", \"30\", \"31\", \"32\", \"33\", \"34\", \"36\"], \"mode\": \"markers\", \"name\": \"recall_score_weighted\", \"stepped\": false, \"type\": \"scatter\", \"data\": [0.8181772784019975, 0.8226841448189763, 0.8102621722846441, 0.8080524344569288, 0.8058426966292135, 0.8058177278401997, 0.8181647940074906, 0.8114856429463171, 0.8091885143570536, 0.6161048689138577, 0.7856304619225968, 0.7822721598002498, 0.8058052434456929, 0.8125717852684146, 0.811398252184769, 0.7811485642946318, 0.7755305867665419, 0.7811485642946318, 0.7777403245942571, 0.8417478152309613]}, {\"categories\": [\"0\", \"1\", \"3\", \"7\", \"11\", \"13\", \"17\", \"21\", \"22\", \"24\", \"26\", \"27\", \"28\", \"29\", \"30\", \"31\", \"32\", \"33\", \"34\", \"36\"], \"mode\": \"lines\", \"name\": \"recall_score_weighted_max\", \"stepped\": true, \"type\": \"scatter\", \"data\": [0.8181772784019975, 0.8226841448189763, 0.8226841448189763, 0.8226841448189763, 0.8226841448189763, 0.8226841448189763, 0.8226841448189763, 0.8226841448189763, 0.8226841448189763, 0.8226841448189763, 0.8226841448189763, 0.8226841448189763, 0.8226841448189763, 0.8226841448189763, 0.8226841448189763, 0.8226841448189763, 0.8226841448189763, 0.8226841448189763, 0.8226841448189763, 0.8417478152309613]}], \"f1_score_weighted\": [{\"categories\": [\"0\", \"1\", \"3\", \"7\", \"11\", \"13\", \"17\", \"21\", \"22\", \"24\", \"26\", \"27\", \"28\", \"29\", \"30\", \"31\", \"32\", \"33\", \"34\", \"36\"], \"mode\": \"markers\", \"name\": \"f1_score_weighted\", \"stepped\": false, \"type\": \"scatter\", \"data\": [0.8159056778152098, 0.821201146977922, 0.8060851552104495, 0.806170489249384, 0.8022585403385001, 0.8035242864697947, 0.816621174893091, 0.8095579313362897, 0.8054497268946598, 0.47109803820520985, 0.7863967227070828, 0.7843907656586762, 0.8045906131463036, 0.8097240131055805, 0.8078311235739566, 0.7833378322796659, 0.7729912254855922, 0.7831887925491908, 0.7729561898588613, 0.8403485361469988]}, {\"categories\": [\"0\", \"1\", \"3\", \"7\", \"11\", \"13\", \"17\", \"21\", \"22\", \"24\", \"26\", \"27\", \"28\", \"29\", \"30\", \"31\", \"32\", \"33\", \"34\", \"36\"], \"mode\": \"lines\", \"name\": \"f1_score_weighted_max\", \"stepped\": true, \"type\": \"scatter\", \"data\": [0.8159056778152098, 0.821201146977922, 0.821201146977922, 0.821201146977922, 0.821201146977922, 0.821201146977922, 0.821201146977922, 0.821201146977922, 0.821201146977922, 0.821201146977922, 0.821201146977922, 0.821201146977922, 0.821201146977922, 0.821201146977922, 0.821201146977922, 0.821201146977922, 0.821201146977922, 0.821201146977922, 0.821201146977922, 0.8403485361469988]}], \"recall_score_micro\": [{\"categories\": [\"0\", \"1\", \"3\", \"7\", \"11\", \"13\", \"17\", \"21\", \"22\", \"24\", \"26\", \"27\", \"28\", \"29\", \"30\", \"31\", \"32\", \"33\", \"34\", \"36\"], \"mode\": \"markers\", \"name\": \"recall_score_micro\", \"stepped\": false, \"type\": \"scatter\", \"data\": [0.8181772784019975, 0.8226841448189763, 0.8102621722846441, 0.8080524344569288, 0.8058426966292135, 0.8058177278401997, 0.8181647940074906, 0.8114856429463171, 0.8091885143570536, 0.6161048689138577, 0.7856304619225968, 0.7822721598002498, 0.8058052434456929, 0.8125717852684146, 0.811398252184769, 0.7811485642946318, 0.7755305867665419, 0.7811485642946318, 0.7777403245942571, 0.8417478152309613]}, {\"categories\": [\"0\", \"1\", \"3\", \"7\", \"11\", \"13\", \"17\", \"21\", \"22\", \"24\", \"26\", \"27\", \"28\", \"29\", \"30\", \"31\", \"32\", \"33\", \"34\", \"36\"], \"mode\": \"lines\", \"name\": \"recall_score_micro_max\", \"stepped\": true, \"type\": \"scatter\", \"data\": [0.8181772784019975, 0.8226841448189763, 0.8226841448189763, 0.8226841448189763, 0.8226841448189763, 0.8226841448189763, 0.8226841448189763, 0.8226841448189763, 0.8226841448189763, 0.8226841448189763, 0.8226841448189763, 0.8226841448189763, 0.8226841448189763, 0.8226841448189763, 0.8226841448189763, 0.8226841448189763, 0.8226841448189763, 0.8226841448189763, 0.8226841448189763, 0.8417478152309613]}], \"balanced_accuracy\": [{\"categories\": [\"0\", \"1\", \"3\", \"7\", \"11\", \"13\", \"17\", \"21\", \"22\", \"24\", \"26\", \"27\", \"28\", \"29\", \"30\", \"31\", \"32\", \"33\", \"34\", \"36\"], \"mode\": \"markers\", \"name\": \"balanced_accuracy\", \"stepped\": false, \"type\": \"scatter\", \"data\": [0.7969763343796229, 0.8053174752313776, 0.7831431213775412, 0.7894578533571, 0.7815596140942425, 0.7844390501529483, 0.7996538566721203, 0.7926146108811291, 0.7826277114447653, 0.5, 0.7747211864479688, 0.7795743295140192, 0.7878307132423007, 0.7899387728810643, 0.7878123499240188, 0.7787268718869005, 0.7533806581351928, 0.777572265530531, 0.7553689877687592, 0.82411820965432]}, {\"categories\": [\"0\", \"1\", \"3\", \"7\", \"11\", \"13\", \"17\", \"21\", \"22\", \"24\", \"26\", \"27\", \"28\", \"29\", \"30\", \"31\", \"32\", \"33\", \"34\", \"36\"], \"mode\": \"lines\", \"name\": \"balanced_accuracy_max\", \"stepped\": true, \"type\": \"scatter\", \"data\": [0.7969763343796229, 0.8053174752313776, 0.8053174752313776, 0.8053174752313776, 0.8053174752313776, 0.8053174752313776, 0.8053174752313776, 0.8053174752313776, 0.8053174752313776, 0.8053174752313776, 0.8053174752313776, 0.8053174752313776, 0.8053174752313776, 0.8053174752313776, 0.8053174752313776, 0.8053174752313776, 0.8053174752313776, 0.8053174752313776, 0.8053174752313776, 0.82411820965432]}], \"precision_score_macro\": [{\"categories\": [\"0\", \"1\", \"3\", \"7\", \"11\", \"13\", \"17\", \"21\", \"22\", \"24\", \"26\", \"27\", \"28\", \"29\", \"30\", \"31\", \"32\", \"33\", \"34\", \"36\"], \"mode\": \"markers\", \"name\": \"precision_score_macro\", \"stepped\": false, \"type\": \"scatter\", \"data\": [0.8111662772141507, 0.8148721635642142, 0.809375821110865, 0.8007347482842437, 0.8026519635500134, 0.7989304663233894, 0.811141890142696, 0.804284001508007, 0.8077215715134383, 0.30805243445692887, 0.7729864011354733, 0.7708162676016854, 0.7968973726160739, 0.8119618102089307, 0.8096217475678475, 0.7696176033273632, 0.7674661710301097, 0.7694549491941998, 0.7790125925498133, 0.8356828006982215]}, {\"categories\": [\"0\", \"1\", \"3\", \"7\", \"11\", \"13\", \"17\", \"21\", \"22\", \"24\", \"26\", \"27\", \"28\", \"29\", \"30\", \"31\", \"32\", \"33\", \"34\", \"36\"], \"mode\": \"lines\", \"name\": \"precision_score_macro_max\", \"stepped\": true, \"type\": \"scatter\", \"data\": [0.8111662772141507, 0.8148721635642142, 0.8148721635642142, 0.8148721635642142, 0.8148721635642142, 0.8148721635642142, 0.8148721635642142, 0.8148721635642142, 0.8148721635642142, 0.8148721635642142, 0.8148721635642142, 0.8148721635642142, 0.8148721635642142, 0.8148721635642142, 0.8148721635642142, 0.8148721635642142, 0.8148721635642142, 0.8148721635642142, 0.8148721635642142, 0.8356828006982215]}], \"average_precision_score_micro\": [{\"categories\": [\"0\", \"1\", \"3\", \"7\", \"11\", \"13\", \"17\", \"21\", \"22\", \"24\", \"26\", \"27\", \"28\", \"29\", \"30\", \"31\", \"32\", \"33\", \"34\", \"36\"], \"mode\": \"markers\", \"name\": \"average_precision_score_micro\", \"stepped\": false, \"type\": \"scatter\", \"data\": [0.8502752801035658, 0.8393316603709235, 0.8566920164888774, 0.8473176700328828, 0.8765955235320497, 0.8266597709793932, 0.8591304117648813, 0.8564348355605249, 0.8666952417127527, 0.5743670131436828, 0.8509138050047508, 0.8234277412483404, 0.8532794261808816, 0.8642110248155795, 0.8564697946927066, 0.8522069431288475, 0.826352532983248, 0.8496026057750937, 0.8487168337465579, 0.8648455342146549]}, {\"categories\": [\"0\", \"1\", \"3\", \"7\", \"11\", \"13\", \"17\", \"21\", \"22\", \"24\", \"26\", \"27\", \"28\", \"29\", \"30\", \"31\", \"32\", \"33\", \"34\", \"36\"], \"mode\": \"lines\", \"name\": \"average_precision_score_micro_max\", \"stepped\": true, \"type\": \"scatter\", \"data\": [0.8502752801035658, 0.8502752801035658, 0.8566920164888774, 0.8566920164888774, 0.8765955235320497, 0.8765955235320497, 0.8765955235320497, 0.8765955235320497, 0.8765955235320497, 0.8765955235320497, 0.8765955235320497, 0.8765955235320497, 0.8765955235320497, 0.8765955235320497, 0.8765955235320497, 0.8765955235320497, 0.8765955235320497, 0.8765955235320497, 0.8765955235320497, 0.8765955235320497]}], \"log_loss\": [{\"categories\": [\"0\", \"1\", \"3\", \"7\", \"11\", \"13\", \"17\", \"21\", \"22\", \"24\", \"26\", \"27\", \"28\", \"29\", \"30\", \"31\", \"32\", \"33\", \"34\", \"36\"], \"mode\": \"markers\", \"name\": \"log_loss\", \"stepped\": false, \"type\": \"scatter\", \"data\": [0.5579860860858322, 0.5793507965525655, 0.6531179507800274, 0.5735733319949045, 0.42781219986407626, 2.0747185973859614, 0.4386623615659844, 0.44844607186890284, 0.4346579969507866, 0.667355428103863, 0.4598658351317, 0.49182891443664883, 0.4510756091403197, 0.6883829284709904, 0.44214849848426363, 0.4858930413983348, 0.5195586939608707, 0.4587732911358741, 0.4467266748411238, 0.4216060032013066]}, {\"categories\": [\"0\", \"1\", \"3\", \"7\", \"11\", \"13\", \"17\", \"21\", \"22\", \"24\", \"26\", \"27\", \"28\", \"29\", \"30\", \"31\", \"32\", \"33\", \"34\", \"36\"], \"mode\": \"lines\", \"name\": \"log_loss_min\", \"stepped\": true, \"type\": \"scatter\", \"data\": [0.5579860860858322, 0.5579860860858322, 0.5579860860858322, 0.5579860860858322, 0.42781219986407626, 0.42781219986407626, 0.42781219986407626, 0.42781219986407626, 0.42781219986407626, 0.42781219986407626, 0.42781219986407626, 0.42781219986407626, 0.42781219986407626, 0.42781219986407626, 0.42781219986407626, 0.42781219986407626, 0.42781219986407626, 0.42781219986407626, 0.42781219986407626, 0.4216060032013066]}], \"recall_score_macro\": [{\"categories\": [\"0\", \"1\", \"3\", \"7\", \"11\", \"13\", \"17\", \"21\", \"22\", \"24\", \"26\", \"27\", \"28\", \"29\", \"30\", \"31\", \"32\", \"33\", \"34\", \"36\"], \"mode\": \"markers\", \"name\": \"recall_score_macro\", \"stepped\": false, \"type\": \"scatter\", \"data\": [0.7969763343796229, 0.8053174752313776, 0.7831431213775412, 0.7894578533571, 0.7815596140942425, 0.7844390501529483, 0.7996538566721203, 0.7926146108811291, 0.7826277114447653, 0.5, 0.7747211864479688, 0.7795743295140192, 0.7878307132423007, 0.7899387728810643, 0.7878123499240188, 0.7787268718869005, 0.7533806581351928, 0.777572265530531, 0.7553689877687592, 0.82411820965432]}, {\"categories\": [\"0\", \"1\", \"3\", \"7\", \"11\", \"13\", \"17\", \"21\", \"22\", \"24\", \"26\", \"27\", \"28\", \"29\", \"30\", \"31\", \"32\", \"33\", \"34\", \"36\"], \"mode\": \"lines\", \"name\": \"recall_score_macro_max\", \"stepped\": true, \"type\": \"scatter\", \"data\": [0.7969763343796229, 0.8053174752313776, 0.8053174752313776, 0.8053174752313776, 0.8053174752313776, 0.8053174752313776, 0.8053174752313776, 0.8053174752313776, 0.8053174752313776, 0.8053174752313776, 0.8053174752313776, 0.8053174752313776, 0.8053174752313776, 0.8053174752313776, 0.8053174752313776, 0.8053174752313776, 0.8053174752313776, 0.8053174752313776, 0.8053174752313776, 0.82411820965432]}], \"f1_score_micro\": [{\"categories\": [\"0\", \"1\", \"3\", \"7\", \"11\", \"13\", \"17\", \"21\", \"22\", \"24\", \"26\", \"27\", \"28\", \"29\", \"30\", \"31\", \"32\", \"33\", \"34\", \"36\"], \"mode\": \"markers\", \"name\": \"f1_score_micro\", \"stepped\": false, \"type\": \"scatter\", \"data\": [0.8181772784019976, 0.8226841448189763, 0.8102621722846444, 0.8080524344569288, 0.8058426966292135, 0.8058177278401997, 0.8181647940074906, 0.8114856429463171, 0.8091885143570536, 0.6161048689138577, 0.7856304619225968, 0.7822721598002498, 0.8058052434456929, 0.8125717852684143, 0.811398252184769, 0.7811485642946318, 0.7755305867665419, 0.7811485642946318, 0.7777403245942571, 0.8417478152309613]}, {\"categories\": [\"0\", \"1\", \"3\", \"7\", \"11\", \"13\", \"17\", \"21\", \"22\", \"24\", \"26\", \"27\", \"28\", \"29\", \"30\", \"31\", \"32\", \"33\", \"34\", \"36\"], \"mode\": \"lines\", \"name\": \"f1_score_micro_max\", \"stepped\": true, \"type\": \"scatter\", \"data\": [0.8181772784019976, 0.8226841448189763, 0.8226841448189763, 0.8226841448189763, 0.8226841448189763, 0.8226841448189763, 0.8226841448189763, 0.8226841448189763, 0.8226841448189763, 0.8226841448189763, 0.8226841448189763, 0.8226841448189763, 0.8226841448189763, 0.8226841448189763, 0.8226841448189763, 0.8226841448189763, 0.8226841448189763, 0.8226841448189763, 0.8226841448189763, 0.8417478152309613]}], \"AUC_micro\": [{\"categories\": [\"0\", \"1\", \"3\", \"7\", \"11\", \"13\", \"17\", \"21\", \"22\", \"24\", \"26\", \"27\", \"28\", \"29\", \"30\", \"31\", \"32\", \"33\", \"34\", \"36\"], \"mode\": \"markers\", \"name\": \"AUC_micro\", \"stepped\": false, \"type\": \"scatter\", \"data\": [0.8688029008682967, 0.8625534794989409, 0.874044999929863, 0.862692631401759, 0.885446470625825, 0.8520659381765304, 0.8774745846717819, 0.8738919671259863, 0.8786401346007876, 0.6161048689138577, 0.8656432471271085, 0.8459380206701674, 0.8718056907641977, 0.8782305295658828, 0.875675743959252, 0.8567213704467418, 0.8357734199292084, 0.8608997881861157, 0.8656339001965396, 0.8841428520217394]}, {\"categories\": [\"0\", \"1\", \"3\", \"7\", \"11\", \"13\", \"17\", \"21\", \"22\", \"24\", \"26\", \"27\", \"28\", \"29\", \"30\", \"31\", \"32\", \"33\", \"34\", \"36\"], \"mode\": \"lines\", \"name\": \"AUC_micro_max\", \"stepped\": true, \"type\": \"scatter\", \"data\": [0.8688029008682967, 0.8688029008682967, 0.874044999929863, 0.874044999929863, 0.885446470625825, 0.885446470625825, 0.885446470625825, 0.885446470625825, 0.885446470625825, 0.885446470625825, 0.885446470625825, 0.885446470625825, 0.885446470625825, 0.885446470625825, 0.885446470625825, 0.885446470625825, 0.885446470625825, 0.885446470625825, 0.885446470625825, 0.885446470625825]}], \"accuracy\": [{\"categories\": [\"0\", \"1\", \"3\", \"7\", \"11\", \"13\", \"17\", \"21\", \"22\", \"24\", \"26\", \"27\", \"28\", \"29\", \"30\", \"31\", \"32\", \"33\", \"34\", \"36\"], \"mode\": \"markers\", \"name\": \"accuracy\", \"stepped\": false, \"type\": \"scatter\", \"data\": [0.8181772784019975, 0.8226841448189763, 0.8102621722846441, 0.8080524344569288, 0.8058426966292135, 0.8058177278401997, 0.8181647940074906, 0.8114856429463171, 0.8091885143570536, 0.6161048689138577, 0.7856304619225968, 0.7822721598002498, 0.8058052434456929, 0.8125717852684146, 0.811398252184769, 0.7811485642946318, 0.7755305867665419, 0.7811485642946318, 0.7777403245942571, 0.8417478152309613]}, {\"categories\": [\"0\", \"1\", \"3\", \"7\", \"11\", \"13\", \"17\", \"21\", \"22\", \"24\", \"26\", \"27\", \"28\", \"29\", \"30\", \"31\", \"32\", \"33\", \"34\", \"36\"], \"mode\": \"lines\", \"name\": \"accuracy_max\", \"stepped\": true, \"type\": \"scatter\", \"data\": [0.8181772784019975, 0.8226841448189763, 0.8226841448189763, 0.8226841448189763, 0.8226841448189763, 0.8226841448189763, 0.8226841448189763, 0.8226841448189763, 0.8226841448189763, 0.8226841448189763, 0.8226841448189763, 0.8226841448189763, 0.8226841448189763, 0.8226841448189763, 0.8226841448189763, 0.8226841448189763, 0.8226841448189763, 0.8226841448189763, 0.8226841448189763, 0.8417478152309613]}], \"norm_macro_recall\": [{\"categories\": [\"0\", \"1\", \"3\", \"7\", \"11\", \"13\", \"17\", \"21\", \"22\", \"24\", \"26\", \"27\", \"28\", \"29\", \"30\", \"31\", \"32\", \"33\", \"34\", \"36\"], \"mode\": \"markers\", \"name\": \"norm_macro_recall\", \"stepped\": false, \"type\": \"scatter\", \"data\": [0.5939526687592458, 0.6106349504627552, 0.5662862427550822, 0.5789157067141998, 0.5631192281884851, 0.5688781003058967, 0.5993077133442405, 0.5852292217622581, 0.5652554228895305, 0.0, 0.5494423728959376, 0.5591486590280382, 0.5756614264846015, 0.5798775457621286, 0.5756246998480375, 0.5574537437738011, 0.5067613162703859, 0.5551445310610621, 0.5107379755375183, 0.6482364193086402]}, {\"categories\": [\"0\", \"1\", \"3\", \"7\", \"11\", \"13\", \"17\", \"21\", \"22\", \"24\", \"26\", \"27\", \"28\", \"29\", \"30\", \"31\", \"32\", \"33\", \"34\", \"36\"], \"mode\": \"lines\", \"name\": \"norm_macro_recall_max\", \"stepped\": true, \"type\": \"scatter\", \"data\": [0.5939526687592458, 0.6106349504627552, 0.6106349504627552, 0.6106349504627552, 0.6106349504627552, 0.6106349504627552, 0.6106349504627552, 0.6106349504627552, 0.6106349504627552, 0.6106349504627552, 0.6106349504627552, 0.6106349504627552, 0.6106349504627552, 0.6106349504627552, 0.6106349504627552, 0.6106349504627552, 0.6106349504627552, 0.6106349504627552, 0.6106349504627552, 0.6482364193086402]}], \"AUC_macro\": [{\"categories\": [\"0\", \"1\", \"3\", \"7\", \"11\", \"13\", \"17\", \"21\", \"22\", \"24\", \"26\", \"27\", \"28\", \"29\", \"30\", \"31\", \"32\", \"33\", \"34\", \"36\"], \"mode\": \"markers\", \"name\": \"AUC_macro\", \"stepped\": false, \"type\": \"scatter\", \"data\": [0.8523144707749672, 0.8453473278597521, 0.8535922255349849, 0.846748607388822, 0.875014466363894, 0.8344334144941717, 0.8605730412112775, 0.8611386017842475, 0.8619028365199257, 0.5, 0.8518287897983132, 0.8337422074256946, 0.8573944927442649, 0.8620278174676251, 0.8546111175671811, 0.8510615468606242, 0.8243747333921119, 0.8399578504371306, 0.8484003674166392, 0.8670637485315383]}, {\"categories\": [\"0\", \"1\", \"3\", \"7\", \"11\", \"13\", \"17\", \"21\", \"22\", \"24\", \"26\", \"27\", \"28\", \"29\", \"30\", \"31\", \"32\", \"33\", \"34\", \"36\"], \"mode\": \"lines\", \"name\": \"AUC_macro_max\", \"stepped\": true, \"type\": \"scatter\", \"data\": [0.8523144707749672, 0.8523144707749672, 0.8535922255349849, 0.8535922255349849, 0.875014466363894, 0.875014466363894, 0.875014466363894, 0.875014466363894, 0.875014466363894, 0.875014466363894, 0.875014466363894, 0.875014466363894, 0.875014466363894, 0.875014466363894, 0.875014466363894, 0.875014466363894, 0.875014466363894, 0.875014466363894, 0.875014466363894, 0.875014466363894]}], \"average_precision_score_weighted\": [{\"categories\": [\"0\", \"1\", \"3\", \"7\", \"11\", \"13\", \"17\", \"21\", \"22\", \"24\", \"26\", \"27\", \"28\", \"29\", \"30\", \"31\", \"32\", \"33\", \"34\", \"36\"], \"mode\": \"markers\", \"name\": \"average_precision_score_weighted\", \"stepped\": false, \"type\": \"scatter\", \"data\": [0.8510352385729503, 0.8411757919327327, 0.8488824508774379, 0.8504806164424534, 0.8770040364560096, 0.8254065735648514, 0.863016423743517, 0.8585822961990747, 0.8627566650356128, 0.5326291573735078, 0.8587658289166976, 0.8293067227636446, 0.8601816160212483, 0.8586744734830496, 0.8499951700884699, 0.8586455361138293, 0.8276125596134086, 0.8305789581896386, 0.8486142287976929, 0.8654994145090266]}, {\"categories\": [\"0\", \"1\", \"3\", \"7\", \"11\", \"13\", \"17\", \"21\", \"22\", \"24\", \"26\", \"27\", \"28\", \"29\", \"30\", \"31\", \"32\", \"33\", \"34\", \"36\"], \"mode\": \"lines\", \"name\": \"average_precision_score_weighted_max\", \"stepped\": true, \"type\": \"scatter\", \"data\": [0.8510352385729503, 0.8510352385729503, 0.8510352385729503, 0.8510352385729503, 0.8770040364560096, 0.8770040364560096, 0.8770040364560096, 0.8770040364560096, 0.8770040364560096, 0.8770040364560096, 0.8770040364560096, 0.8770040364560096, 0.8770040364560096, 0.8770040364560096, 0.8770040364560096, 0.8770040364560096, 0.8770040364560096, 0.8770040364560096, 0.8770040364560096, 0.8770040364560096]}], \"average_precision_score_macro\": [{\"categories\": [\"0\", \"1\", \"3\", \"7\", \"11\", \"13\", \"17\", \"21\", \"22\", \"24\", \"26\", \"27\", \"28\", \"29\", \"30\", \"31\", \"32\", \"33\", \"34\", \"36\"], \"mode\": \"markers\", \"name\": \"average_precision_score_macro\", \"stepped\": false, \"type\": \"scatter\", \"data\": [0.8417988280379032, 0.8329199139921618, 0.8403330977724339, 0.8408298954367274, 0.8674651775740598, 0.8137730838457916, 0.8555589871042291, 0.8510045088179151, 0.8550506992461372, 0.5, 0.8505821239842538, 0.8172931437723333, 0.8523656865570098, 0.849912002134405, 0.8413139536184708, 0.8488164634384237, 0.8083097970545495, 0.8217666366453249, 0.8379778372168267, 0.8579304877017229]}, {\"categories\": [\"0\", \"1\", \"3\", \"7\", \"11\", \"13\", \"17\", \"21\", \"22\", \"24\", \"26\", \"27\", \"28\", \"29\", \"30\", \"31\", \"32\", \"33\", \"34\", \"36\"], \"mode\": \"lines\", \"name\": \"average_precision_score_macro_max\", \"stepped\": true, \"type\": \"scatter\", \"data\": [0.8417988280379032, 0.8417988280379032, 0.8417988280379032, 0.8417988280379032, 0.8674651775740598, 0.8674651775740598, 0.8674651775740598, 0.8674651775740598, 0.8674651775740598, 0.8674651775740598, 0.8674651775740598, 0.8674651775740598, 0.8674651775740598, 0.8674651775740598, 0.8674651775740598, 0.8674651775740598, 0.8674651775740598, 0.8674651775740598, 0.8674651775740598, 0.8674651775740598]}], \"AUC_weighted\": [{\"categories\": [\"0\", \"1\", \"3\", \"7\", \"11\", \"13\", \"17\", \"21\", \"22\", \"24\", \"26\", \"27\", \"28\", \"29\", \"30\", \"31\", \"32\", \"33\", \"34\", \"36\"], \"mode\": \"markers\", \"name\": \"AUC_weighted\", \"stepped\": false, \"type\": \"scatter\", \"data\": [0.8523144707749672, 0.8453473278597521, 0.8535922255349849, 0.846748607388822, 0.875014466363894, 0.8344334144941717, 0.8605730412112775, 0.8611386017842475, 0.8619028365199257, 0.5, 0.851828789798313, 0.8337422074256946, 0.8573944927442648, 0.8620278174676251, 0.8546111175671811, 0.8510615468606242, 0.8243747333921119, 0.8399578504371306, 0.8484003674166392, 0.8670637485315383]}, {\"categories\": [\"0\", \"1\", \"3\", \"7\", \"11\", \"13\", \"17\", \"21\", \"22\", \"24\", \"26\", \"27\", \"28\", \"29\", \"30\", \"31\", \"32\", \"33\", \"34\", \"36\"], \"mode\": \"lines\", \"name\": \"AUC_weighted_max\", \"stepped\": true, \"type\": \"scatter\", \"data\": [0.8523144707749672, 0.8523144707749672, 0.8535922255349849, 0.8535922255349849, 0.875014466363894, 0.875014466363894, 0.875014466363894, 0.875014466363894, 0.875014466363894, 0.875014466363894, 0.875014466363894, 0.875014466363894, 0.875014466363894, 0.875014466363894, 0.875014466363894, 0.875014466363894, 0.875014466363894, 0.875014466363894, 0.875014466363894, 0.875014466363894]}], \"f1_score_macro\": [{\"categories\": [\"0\", \"1\", \"3\", \"7\", \"11\", \"13\", \"17\", \"21\", \"22\", \"24\", \"26\", \"27\", \"28\", \"29\", \"30\", \"31\", \"32\", \"33\", \"34\", \"36\"], \"mode\": \"markers\", \"name\": \"f1_score_macro\", \"stepped\": false, \"type\": \"scatter\", \"data\": [0.801081215630988, 0.8075545161259138, 0.7893782065690457, 0.7910636611163739, 0.7857709280720291, 0.787846235766774, 0.8016278265030639, 0.794666098258996, 0.7881917072030211, 0.38055584981125273, 0.7715523809633572, 0.7715753624500075, 0.7893996418756581, 0.7936019058106053, 0.7922016483405527, 0.7704917721407075, 0.7550650400836333, 0.7701079741050689, 0.7554840129953306, 0.8275170773583665]}, {\"categories\": [\"0\", \"1\", \"3\", \"7\", \"11\", \"13\", \"17\", \"21\", \"22\", \"24\", \"26\", \"27\", \"28\", \"29\", \"30\", \"31\", \"32\", \"33\", \"34\", \"36\"], \"mode\": \"lines\", \"name\": \"f1_score_macro_max\", \"stepped\": true, \"type\": \"scatter\", \"data\": [0.801081215630988, 0.8075545161259138, 0.8075545161259138, 0.8075545161259138, 0.8075545161259138, 0.8075545161259138, 0.8075545161259138, 0.8075545161259138, 0.8075545161259138, 0.8075545161259138, 0.8075545161259138, 0.8075545161259138, 0.8075545161259138, 0.8075545161259138, 0.8075545161259138, 0.8075545161259138, 0.8075545161259138, 0.8075545161259138, 0.8075545161259138, 0.8275170773583665]}], \"precision_score_micro\": [{\"categories\": [\"0\", \"1\", \"3\", \"7\", \"11\", \"13\", \"17\", \"21\", \"22\", \"24\", \"26\", \"27\", \"28\", \"29\", \"30\", \"31\", \"32\", \"33\", \"34\", \"36\"], \"mode\": \"markers\", \"name\": \"precision_score_micro\", \"stepped\": false, \"type\": \"scatter\", \"data\": [0.8181772784019975, 0.8226841448189763, 0.8102621722846441, 0.8080524344569288, 0.8058426966292135, 0.8058177278401997, 0.8181647940074906, 0.8114856429463171, 0.8091885143570536, 0.6161048689138577, 0.7856304619225968, 0.7822721598002498, 0.8058052434456929, 0.8125717852684146, 0.811398252184769, 0.7811485642946318, 0.7755305867665419, 0.7811485642946318, 0.7777403245942571, 0.8417478152309613]}, {\"categories\": [\"0\", \"1\", \"3\", \"7\", \"11\", \"13\", \"17\", \"21\", \"22\", \"24\", \"26\", \"27\", \"28\", \"29\", \"30\", \"31\", \"32\", \"33\", \"34\", \"36\"], \"mode\": \"lines\", \"name\": \"precision_score_micro_max\", \"stepped\": true, \"type\": \"scatter\", \"data\": [0.8181772784019975, 0.8226841448189763, 0.8226841448189763, 0.8226841448189763, 0.8226841448189763, 0.8226841448189763, 0.8226841448189763, 0.8226841448189763, 0.8226841448189763, 0.8226841448189763, 0.8226841448189763, 0.8226841448189763, 0.8226841448189763, 0.8226841448189763, 0.8226841448189763, 0.8226841448189763, 0.8226841448189763, 0.8226841448189763, 0.8226841448189763, 0.8417478152309613]}], \"precision_score_weighted\": [{\"categories\": [\"0\", \"1\", \"3\", \"7\", \"11\", \"13\", \"17\", \"21\", \"22\", \"24\", \"26\", \"27\", \"28\", \"29\", \"30\", \"31\", \"32\", \"33\", \"34\", \"36\"], \"mode\": \"markers\", \"name\": \"precision_score_weighted\", \"stepped\": false, \"type\": \"scatter\", \"data\": [0.8191157952955747, 0.8244330618135631, 0.8144917943571908, 0.8115524719628233, 0.810281639167596, 0.8080204033853979, 0.822021853578747, 0.8146401472495264, 0.8141466858091245, 0.38241944760061164, 0.791160274358218, 0.7928379569525591, 0.8087984986891383, 0.820034042767652, 0.8160283116798931, 0.7919584119460181, 0.7802384084817329, 0.7911487911274999, 0.7900446818944589, 0.8433549655637211]}, {\"categories\": [\"0\", \"1\", \"3\", \"7\", \"11\", \"13\", \"17\", \"21\", \"22\", \"24\", \"26\", \"27\", \"28\", \"29\", \"30\", \"31\", \"32\", \"33\", \"34\", \"36\"], \"mode\": \"lines\", \"name\": \"precision_score_weighted_max\", \"stepped\": true, \"type\": \"scatter\", \"data\": [0.8191157952955747, 0.8244330618135631, 0.8244330618135631, 0.8244330618135631, 0.8244330618135631, 0.8244330618135631, 0.8244330618135631, 0.8244330618135631, 0.8244330618135631, 0.8244330618135631, 0.8244330618135631, 0.8244330618135631, 0.8244330618135631, 0.8244330618135631, 0.8244330618135631, 0.8244330618135631, 0.8244330618135631, 0.8244330618135631, 0.8244330618135631, 0.8433549655637211]}], \"weighted_accuracy\": [{\"categories\": [\"0\", \"1\", \"3\", \"7\", \"11\", \"13\", \"17\", \"21\", \"22\", \"24\", \"26\", \"27\", \"28\", \"29\", \"30\", \"31\", \"32\", \"33\", \"34\", \"36\"], \"mode\": \"markers\", \"name\": \"weighted_accuracy\", \"stepped\": false, \"type\": \"scatter\", \"data\": [0.836091827393951, 0.8373800645651632, 0.8333297890043335, 0.8238436511914798, 0.8265943606500074, 0.8237212679048225, 0.8339897749808054, 0.827438205213061, 0.8316469188775258, 0.7138631539899801, 0.7951504350244707, 0.7848468955896765, 0.8213175430316598, 0.8318924889352844, 0.8317351441076953, 0.7835001710975515, 0.7947646811627973, 0.7844835048494055, 0.7974949191837912, 0.8566344223606561]}, {\"categories\": [\"0\", \"1\", \"3\", \"7\", \"11\", \"13\", \"17\", \"21\", \"22\", \"24\", \"26\", \"27\", \"28\", \"29\", \"30\", \"31\", \"32\", \"33\", \"34\", \"36\"], \"mode\": \"lines\", \"name\": \"weighted_accuracy_max\", \"stepped\": true, \"type\": \"scatter\", \"data\": [0.836091827393951, 0.8373800645651632, 0.8373800645651632, 0.8373800645651632, 0.8373800645651632, 0.8373800645651632, 0.8373800645651632, 0.8373800645651632, 0.8373800645651632, 0.8373800645651632, 0.8373800645651632, 0.8373800645651632, 0.8373800645651632, 0.8373800645651632, 0.8373800645651632, 0.8373800645651632, 0.8373800645651632, 0.8373800645651632, 0.8373800645651632, 0.8566344223606561]}], \"matthews_correlation\": [{\"categories\": [\"0\", \"1\", \"3\", \"7\", \"11\", \"13\", \"17\", \"21\", \"22\", \"24\", \"26\", \"27\", \"28\", \"29\", \"30\", \"31\", \"32\", \"33\", \"34\", \"36\"], \"mode\": \"markers\", \"name\": \"matthews_correlation\", \"stepped\": false, \"type\": \"scatter\", \"data\": [0.6078304365614267, 0.6199202164028109, 0.5917077271870324, 0.5896576211832615, 0.5833779468317227, 0.5827951306551994, 0.6103969619231275, 0.5964668148235296, 0.5893206222390248, 0.0, 0.5474992560805144, 0.5501200640682555, 0.5844748738584462, 0.6007987812494849, 0.5965328429595564, 0.548067185323575, 0.5203315034692443, 0.5467633634600881, 0.5329555062306203, 0.6595608348963032]}, {\"categories\": [\"0\", \"1\", \"3\", \"7\", \"11\", \"13\", \"17\", \"21\", \"22\", \"24\", \"26\", \"27\", \"28\", \"29\", \"30\", \"31\", \"32\", \"33\", \"34\", \"36\"], \"mode\": \"lines\", \"name\": \"matthews_correlation_max\", \"stepped\": true, \"type\": \"scatter\", \"data\": [0.6078304365614267, 0.6199202164028109, 0.6199202164028109, 0.6199202164028109, 0.6199202164028109, 0.6199202164028109, 0.6199202164028109, 0.6199202164028109, 0.6199202164028109, 0.6199202164028109, 0.6199202164028109, 0.6199202164028109, 0.6199202164028109, 0.6199202164028109, 0.6199202164028109, 0.6199202164028109, 0.6199202164028109, 0.6199202164028109, 0.6199202164028109, 0.6595608348963032]}]}, \"metricName\": null, \"primaryMetricName\": \"accuracy\", \"showLegend\": false}, \"run_metrics\": [{\"name\": \"experiment_status\", \"run_id\": \"AutoML_054d496a-23c1-4a94-aace-2daf4dca2f3a\", \"categories\": [0, 1, 2, 3, 4, 5, 6, 7, 8, 9, 10, 11, 12, 13], \"series\": [{\"data\": [\"DatasetEvaluation\", \"FeaturesGeneration\", \"DatasetFeaturization\", \"DatasetFeaturizationCompleted\", \"DatasetCrossValidationSplit\", \"ModelSelection\", \"BestRunExplainModel\", \"ModelExplanationDataSetSetup\", \"PickSurrogateModel\", \"EngineeredFeatureExplanations\", \"EngineeredFeatureExplanations\", \"RawFeaturesExplanations\", \"RawFeaturesExplanations\", \"BestRunExplainModel\"]}]}, {\"name\": \"experiment_status_description\", \"run_id\": \"AutoML_054d496a-23c1-4a94-aace-2daf4dca2f3a\", \"categories\": [0, 1, 2, 3, 4, 5, 6, 7, 8, 9, 10, 11, 12, 13], \"series\": [{\"data\": [\"Gathering dataset statistics.\", \"Generating features for the dataset.\", \"Beginning to fit featurizers and featurize the dataset.\", \"Completed fit featurizers and featurizing the dataset.\", \"Generating individually featurized CV splits.\", \"Beginning model selection.\", \"Best run model explanations started\", \"Model explanations data setup completed\", \"Choosing LightGBM as the surrogate model for explanations\", \"Computation of engineered features started\", \"Computation of engineered features completed\", \"Computation of raw features started\", \"Computation of raw features completed\", \"Best run model explanations completed\"]}]}, {\"name\": \"precision_score_weighted\", \"run_id\": \"AutoML_054d496a-23c1-4a94-aace-2daf4dca2f3a\", \"categories\": [0], \"series\": [{\"data\": [0.8433549655637211]}]}, {\"name\": \"weighted_accuracy\", \"run_id\": \"AutoML_054d496a-23c1-4a94-aace-2daf4dca2f3a\", \"categories\": [0], \"series\": [{\"data\": [0.8566344223606561]}]}, {\"name\": \"log_loss\", \"run_id\": \"AutoML_054d496a-23c1-4a94-aace-2daf4dca2f3a\", \"categories\": [0], \"series\": [{\"data\": [0.4216060032013066]}]}, {\"name\": \"recall_score_weighted\", \"run_id\": \"AutoML_054d496a-23c1-4a94-aace-2daf4dca2f3a\", \"categories\": [0], \"series\": [{\"data\": [0.8417478152309613]}]}, {\"name\": \"precision_score_micro\", \"run_id\": \"AutoML_054d496a-23c1-4a94-aace-2daf4dca2f3a\", \"categories\": [0], \"series\": [{\"data\": [0.8417478152309613]}]}, {\"name\": \"average_precision_score_weighted\", \"run_id\": \"AutoML_054d496a-23c1-4a94-aace-2daf4dca2f3a\", \"categories\": [0], \"series\": [{\"data\": [0.8654994145090266]}]}, {\"name\": \"f1_score_macro\", \"run_id\": \"AutoML_054d496a-23c1-4a94-aace-2daf4dca2f3a\", \"categories\": [0], \"series\": [{\"data\": [0.8275170773583665]}]}, {\"name\": \"AUC_weighted\", \"run_id\": \"AutoML_054d496a-23c1-4a94-aace-2daf4dca2f3a\", \"categories\": [0], \"series\": [{\"data\": [0.8670637485315383]}]}, {\"name\": \"recall_score_macro\", \"run_id\": \"AutoML_054d496a-23c1-4a94-aace-2daf4dca2f3a\", \"categories\": [0], \"series\": [{\"data\": [0.82411820965432]}]}, {\"name\": \"norm_macro_recall\", \"run_id\": \"AutoML_054d496a-23c1-4a94-aace-2daf4dca2f3a\", \"categories\": [0], \"series\": [{\"data\": [0.6482364193086402]}]}, {\"name\": \"f1_score_micro\", \"run_id\": \"AutoML_054d496a-23c1-4a94-aace-2daf4dca2f3a\", \"categories\": [0], \"series\": [{\"data\": [0.8417478152309613]}]}, {\"name\": \"recall_score_micro\", \"run_id\": \"AutoML_054d496a-23c1-4a94-aace-2daf4dca2f3a\", \"categories\": [0], \"series\": [{\"data\": [0.8417478152309613]}]}, {\"name\": \"accuracy\", \"run_id\": \"AutoML_054d496a-23c1-4a94-aace-2daf4dca2f3a\", \"categories\": [0], \"series\": [{\"data\": [0.8417478152309613]}]}, {\"name\": \"f1_score_weighted\", \"run_id\": \"AutoML_054d496a-23c1-4a94-aace-2daf4dca2f3a\", \"categories\": [0], \"series\": [{\"data\": [0.8403485361469988]}]}, {\"name\": \"balanced_accuracy\", \"run_id\": \"AutoML_054d496a-23c1-4a94-aace-2daf4dca2f3a\", \"categories\": [0], \"series\": [{\"data\": [0.82411820965432]}]}, {\"name\": \"average_precision_score_micro\", \"run_id\": \"AutoML_054d496a-23c1-4a94-aace-2daf4dca2f3a\", \"categories\": [0], \"series\": [{\"data\": [0.8648455342146549]}]}, {\"name\": \"average_precision_score_macro\", \"run_id\": \"AutoML_054d496a-23c1-4a94-aace-2daf4dca2f3a\", \"categories\": [0], \"series\": [{\"data\": [0.8579304877017229]}]}, {\"name\": \"matthews_correlation\", \"run_id\": \"AutoML_054d496a-23c1-4a94-aace-2daf4dca2f3a\", \"categories\": [0], \"series\": [{\"data\": [0.6595608348963032]}]}, {\"name\": \"precision_score_macro\", \"run_id\": \"AutoML_054d496a-23c1-4a94-aace-2daf4dca2f3a\", \"categories\": [0], \"series\": [{\"data\": [0.8356828006982215]}]}, {\"name\": \"AUC_micro\", \"run_id\": \"AutoML_054d496a-23c1-4a94-aace-2daf4dca2f3a\", \"categories\": [0], \"series\": [{\"data\": [0.8841428520217394]}]}, {\"name\": \"AUC_macro\", \"run_id\": \"AutoML_054d496a-23c1-4a94-aace-2daf4dca2f3a\", \"categories\": [0], \"series\": [{\"data\": [0.8670637485315383]}]}], \"run_logs\": \"\\nRun is completed.\", \"graph\": {}, \"widget_settings\": {\"childWidgetDisplay\": \"popup\", \"send_telemetry\": false, \"log_level\": \"INFO\", \"sdk_version\": \"1.51.0\"}, \"loading\": false}"
     },
     "metadata": {},
     "output_type": "display_data"
    }
   ],
   "source": [
    "from azureml.widgets import RunDetails\n",
    "RunDetails(remote_run).show()"
   ]
  },
  {
   "cell_type": "markdown",
   "metadata": {},
   "source": [
    "## Best Model\n",
    "\n",
    "Here get the best model from the automl experiments and display all the properties of the model.\n",
    "\n"
   ]
  },
  {
   "cell_type": "code",
   "execution_count": 33,
   "metadata": {
    "gather": {
     "logged": 1598431425670
    },
    "jupyter": {
     "outputs_hidden": false,
     "source_hidden": false
    },
    "nteract": {
     "transient": {
      "deleting": false
     }
    }
   },
   "outputs": [
    {
     "name": "stderr",
     "output_type": "stream",
     "text": [
      "WARNING:root:The version of the SDK does not match the version the model was trained on.\n",
      "WARNING:root:The consistency in the result may not be guaranteed.\n",
      "WARNING:root:Package:azureml-automl-core, training version:1.52.0.post1, current version:1.51.0.post1\n",
      "Package:azureml-automl-runtime, training version:1.52.0.post1, current version:1.51.0.post1\n",
      "Package:azureml-core, training version:1.52.0, current version:1.51.0\n",
      "Package:azureml-dataprep, training version:4.11.4, current version:4.10.8\n",
      "Package:azureml-dataprep-rslex, training version:2.18.4, current version:2.17.12\n",
      "Package:azureml-dataset-runtime, training version:1.52.0, current version:1.51.0\n",
      "Package:azureml-defaults, training version:1.52.0, current version:1.51.0\n",
      "Package:azureml-interpret, training version:1.52.0, current version:1.51.0\n",
      "Package:azureml-mlflow, training version:1.52.0, current version:1.51.0\n",
      "Package:azureml-pipeline-core, training version:1.52.0, current version:1.51.0\n",
      "Package:azureml-responsibleai, training version:1.52.0, current version:1.51.0\n",
      "Package:azureml-telemetry, training version:1.52.0, current version:1.51.0\n",
      "Package:azureml-train-automl-client, training version:1.52.0, current version:1.51.0.post1\n",
      "Package:azureml-train-automl-runtime, training version:1.52.0, current version:1.51.0.post2\n",
      "Package:azureml-train-core, training version:1.52.0, current version:1.51.0\n",
      "Package:azureml-train-restclients-hyperdrive, training version:1.52.0, current version:1.51.0\n",
      "Package:azureml-training-tabular, training version:1.52.0, current version:1.51.0.post1\n",
      "WARNING:root:Please ensure the version of your local conda dependencies match the version on which your model was trained in order to properly retrieve your model.\n"
     ]
    }
   ],
   "source": [
    "best_run_automl, fitted_model_automl = remote_run.get_output()\n",
    "model_name = best_run_automl.properties['model_name']"
   ]
  },
  {
   "cell_type": "code",
   "execution_count": 34,
   "metadata": {
    "scrolled": true
   },
   "outputs": [
    {
     "name": "stdout",
     "output_type": "stream",
     "text": [
      "Run(Experiment: capstone_project,\n",
      "Id: AutoML_054d496a-23c1-4a94-aace-2daf4dca2f3a_36,\n",
      "Type: azureml.scriptrun,\n",
      "Status: Completed)\n"
     ]
    }
   ],
   "source": [
    "# run\n",
    "print(best_run_automl)"
   ]
  },
  {
   "cell_type": "code",
   "execution_count": 35,
   "metadata": {},
   "outputs": [
    {
     "data": {
      "text/plain": [
       "[('datatransformer',\n",
       "  DataTransformer(enable_dnn=False, enable_feature_sweeping=True, feature_sweeping_config={}, feature_sweeping_timeout=86400, featurization_config=None, force_text_dnn=False, is_cross_validation=True, is_onnx_compatible=False, task='classification')),\n",
       " ('prefittedsoftvotingclassifier',\n",
       "  PreFittedSoftVotingClassifier(classification_labels=numpy.array([0, 1]), estimators=[('18', Pipeline(memory=None, steps=[('standardscalerwrapper', StandardScalerWrapper(copy=True, with_mean=False, with_std=False)), ('xgboostclassifier', XGBoostClassifier(booster='gbtree', colsample_bytree=0.7, eta=0.1, gamma=0.1, max_depth=9, max_leaves=511, n_estimators=25, n_jobs=1, objective='reg:logistic', problem_info=ProblemInfo(gpu_training_param_dict={'processing_unit_type': 'cpu'}), random_state=0, reg_alpha=0, reg_lambda=1.7708333333333335, subsample=0.9, tree_method='auto'))], verbose=False)), ('10', Pipeline(memory=None, steps=[('sparsenormalizer', Normalizer(copy=True, norm='l1')), ('lightgbmclassifier', LightGBMClassifier(boosting_type='gbdt', colsample_bytree=0.8911111111111111, learning_rate=0.0842121052631579, max_bin=290, max_depth=3, min_child_weight=6, min_data_in_leaf=0.024145517241379314, min_split_gain=0.7368421052631579, n_estimators=25, n_jobs=1, num_leaves=137, problem_info=ProblemInfo(gpu_training_param_dict={'processing_unit_type': 'cpu'}), random_state=None, reg_alpha=0.15789473684210525, reg_lambda=0, subsample=0.29736842105263156))], verbose=False)), ('1', Pipeline(memory=None, steps=[('maxabsscaler', MaxAbsScaler(copy=True)), ('xgboostclassifier', XGBoostClassifier(n_jobs=1, problem_info=ProblemInfo(gpu_training_param_dict={'processing_unit_type': 'cpu'}), random_state=0, tree_method='auto'))], verbose=False)), ('25', Pipeline(memory=None, steps=[('maxabsscaler', MaxAbsScaler(copy=True)), ('lightgbmclassifier', LightGBMClassifier(boosting_type='goss', colsample_bytree=0.7922222222222222, learning_rate=0.09473736842105263, max_bin=180, max_depth=3, min_child_weight=7, min_data_in_leaf=0.04828103448275863, min_split_gain=0.894736842105263, n_estimators=100, n_jobs=1, num_leaves=95, problem_info=ProblemInfo(gpu_training_param_dict={'processing_unit_type': 'cpu'}), random_state=None, reg_alpha=0.5789473684210527, reg_lambda=0.5263157894736842, subsample=1))], verbose=False)), ('14', Pipeline(memory=None, steps=[('standardscalerwrapper', StandardScalerWrapper(copy=True, with_mean=False, with_std=False)), ('xgboostclassifier', XGBoostClassifier(booster='gbtree', colsample_bytree=1, eta=0.3, gamma=0, max_depth=10, max_leaves=511, n_estimators=10, n_jobs=1, objective='reg:logistic', problem_info=ProblemInfo(gpu_training_param_dict={'processing_unit_type': 'cpu'}), random_state=0, reg_alpha=2.1875, reg_lambda=0.4166666666666667, subsample=0.5, tree_method='auto'))], verbose=False)), ('5', Pipeline(memory=None, steps=[('maxabsscaler', MaxAbsScaler(copy=True)), ('lightgbmclassifier', LightGBMClassifier(boosting_type='gbdt', colsample_bytree=0.5944444444444444, learning_rate=0.06316157894736842, max_bin=260, max_depth=6, min_child_weight=2, min_data_in_leaf=0.003457931034482759, min_split_gain=0.42105263157894735, n_estimators=10, n_jobs=1, num_leaves=161, problem_info=ProblemInfo(gpu_training_param_dict={'processing_unit_type': 'cpu'}), random_state=None, reg_alpha=0.3684210526315789, reg_lambda=0.15789473684210525, subsample=0.5447368421052632))], verbose=False)), ('9', Pipeline(memory=None, steps=[('standardscalerwrapper', StandardScalerWrapper(copy=True, with_mean=False, with_std=False)), ('xgboostclassifier', XGBoostClassifier(booster='gbtree', colsample_bytree=0.5, eta=0.5, gamma=0, max_depth=6, max_leaves=3, n_estimators=10, n_jobs=1, objective='reg:logistic', problem_info=ProblemInfo(gpu_training_param_dict={'processing_unit_type': 'cpu'}), random_state=0, reg_alpha=0.7291666666666667, reg_lambda=2.3958333333333335, subsample=0.8, tree_method='auto'))], verbose=False)), ('22', Pipeline(memory=None, steps=[('sparsenormalizer', Normalizer(copy=True, norm='l1')), ('xgboostclassifier', XGBoostClassifier(booster='gbtree', colsample_bylevel=1, colsample_bytree=1, eta=0.2, gamma=0, max_depth=10, max_leaves=0, n_estimators=10, n_jobs=1, objective='reg:logistic', problem_info=ProblemInfo(gpu_training_param_dict={'processing_unit_type': 'cpu'}), random_state=0, reg_alpha=1.3541666666666667, reg_lambda=1.4583333333333335, subsample=1, tree_method='auto'))], verbose=False)), ('12', Pipeline(memory=None, steps=[('maxabsscaler', MaxAbsScaler(copy=True)), ('logisticregression', LogisticRegression(C=719.6856730011514, class_weight=None, dual=False, fit_intercept=True, intercept_scaling=1, l1_ratio=None, max_iter=100, multi_class='multinomial', n_jobs=1, penalty='l2', random_state=None, solver='lbfgs', tol=0.0001, verbose=0, warm_start=False))], verbose=False)), ('19', Pipeline(memory=None, steps=[('truncatedsvdwrapper', TruncatedSVDWrapper(n_components=0.8015789473684211, random_state=None)), ('randomforestclassifier', RandomForestClassifier(bootstrap=False, ccp_alpha=0.0, class_weight='balanced', criterion='entropy', max_depth=None, max_features='sqrt', max_leaf_nodes=None, max_samples=None, min_impurity_decrease=0.0, min_impurity_split=None, min_samples_leaf=0.035789473684210524, min_samples_split=0.15052631578947367, min_weight_fraction_leaf=0.0, n_estimators=100, n_jobs=1, oob_score=False, random_state=None, verbose=0, warm_start=False))], verbose=False))], flatten_transform=None, weights=[0.15384615384615385, 0.07692307692307693, 0.15384615384615385, 0.07692307692307693, 0.07692307692307693, 0.07692307692307693, 0.15384615384615385, 0.07692307692307693, 0.07692307692307693, 0.07692307692307693]))]"
      ]
     },
     "execution_count": 35,
     "metadata": {},
     "output_type": "execute_result"
    }
   ],
   "source": [
    "fitted_model_automl.steps"
   ]
  },
  {
   "cell_type": "code",
   "execution_count": 36,
   "metadata": {},
   "outputs": [
    {
     "name": "stdout",
     "output_type": "stream",
     "text": [
      "datatransformer\n",
      "{'enable_dnn': False,\n",
      " 'enable_feature_sweeping': True,\n",
      " 'feature_sweeping_config': {},\n",
      " 'feature_sweeping_timeout': 86400,\n",
      " 'featurization_config': None,\n",
      " 'force_text_dnn': False,\n",
      " 'is_cross_validation': True,\n",
      " 'is_onnx_compatible': False,\n",
      " 'observer': None,\n",
      " 'task': 'classification',\n",
      " 'working_dir': '/mnt/batch/tasks/shared/LS_root/mounts/clusters/capstone/code/Users/odl_user_242438/capstone '\n",
      "                'project/starter_file'}\n",
      "\n",
      "prefittedsoftvotingclassifier\n",
      "{'estimators': ['18', '10', '1', '25', '14', '5', '9', '22', '12', '19'],\n",
      " 'weights': [0.15384615384615385,\n",
      "             0.07692307692307693,\n",
      "             0.15384615384615385,\n",
      "             0.07692307692307693,\n",
      "             0.07692307692307693,\n",
      "             0.07692307692307693,\n",
      "             0.15384615384615385,\n",
      "             0.07692307692307693,\n",
      "             0.07692307692307693,\n",
      "             0.07692307692307693]}\n",
      "\n",
      "18 - standardscalerwrapper\n",
      "{'class_name': 'StandardScaler',\n",
      " 'copy': True,\n",
      " 'module_name': 'sklearn.preprocessing._data',\n",
      " 'with_mean': False,\n",
      " 'with_std': False}\n",
      "\n",
      "18 - xgboostclassifier\n",
      "{'base_score': 0.5,\n",
      " 'booster': 'gbtree',\n",
      " 'colsample_bylevel': 1,\n",
      " 'colsample_bynode': 1,\n",
      " 'colsample_bytree': 0.7,\n",
      " 'eta': 0.1,\n",
      " 'gamma': 0.1,\n",
      " 'gpu_id': -1,\n",
      " 'importance_type': 'gain',\n",
      " 'interaction_constraints': '',\n",
      " 'learning_rate': 0.100000001,\n",
      " 'max_delta_step': 0,\n",
      " 'max_depth': 9,\n",
      " 'max_leaves': 511,\n",
      " 'min_child_weight': 1,\n",
      " 'missing': nan,\n",
      " 'monotone_constraints': '()',\n",
      " 'n_estimators': 25,\n",
      " 'n_jobs': 1,\n",
      " 'num_parallel_tree': 1,\n",
      " 'objective': 'reg:logistic',\n",
      " 'random_state': 0,\n",
      " 'reg_alpha': 0,\n",
      " 'reg_lambda': 1.7708333333333335,\n",
      " 'scale_pos_weight': 1,\n",
      " 'subsample': 0.9,\n",
      " 'tree_method': 'auto',\n",
      " 'use_label_encoder': True,\n",
      " 'validate_parameters': 1,\n",
      " 'verbose': -10,\n",
      " 'verbosity': 0}\n",
      "\n",
      "10 - sparsenormalizer\n",
      "{'copy': True, 'norm': 'l1'}\n",
      "\n",
      "10 - lightgbmclassifier\n",
      "{'boosting_type': 'gbdt',\n",
      " 'colsample_bytree': 0.8911111111111111,\n",
      " 'learning_rate': 0.0842121052631579,\n",
      " 'max_bin': 290,\n",
      " 'max_depth': 3,\n",
      " 'min_child_weight': 6,\n",
      " 'min_data_in_leaf': 0.024145517241379314,\n",
      " 'min_split_gain': 0.7368421052631579,\n",
      " 'n_estimators': 25,\n",
      " 'n_jobs': 1,\n",
      " 'num_leaves': 137,\n",
      " 'problem_info': ProblemInfo(gpu_training_param_dict={'processing_unit_type': 'cpu'}),\n",
      " 'random_state': None,\n",
      " 'reg_alpha': 0.15789473684210525,\n",
      " 'reg_lambda': 0,\n",
      " 'subsample': 0.29736842105263156}\n",
      "\n",
      "1 - maxabsscaler\n",
      "{'copy': True}\n",
      "\n",
      "1 - xgboostclassifier\n",
      "{'base_score': 0.5,\n",
      " 'booster': 'gbtree',\n",
      " 'colsample_bylevel': 1,\n",
      " 'colsample_bynode': 1,\n",
      " 'colsample_bytree': 1,\n",
      " 'gamma': 0,\n",
      " 'gpu_id': -1,\n",
      " 'importance_type': 'gain',\n",
      " 'interaction_constraints': '',\n",
      " 'learning_rate': 0.300000012,\n",
      " 'max_delta_step': 0,\n",
      " 'max_depth': 6,\n",
      " 'min_child_weight': 1,\n",
      " 'missing': nan,\n",
      " 'monotone_constraints': '()',\n",
      " 'n_estimators': 100,\n",
      " 'n_jobs': 1,\n",
      " 'num_parallel_tree': 1,\n",
      " 'objective': 'binary:logistic',\n",
      " 'random_state': 0,\n",
      " 'reg_alpha': 0,\n",
      " 'reg_lambda': 1,\n",
      " 'scale_pos_weight': 1,\n",
      " 'subsample': 1,\n",
      " 'tree_method': 'auto',\n",
      " 'use_label_encoder': True,\n",
      " 'validate_parameters': 1,\n",
      " 'verbose': -10,\n",
      " 'verbosity': 0}\n",
      "\n",
      "25 - maxabsscaler\n",
      "{'copy': True}\n",
      "\n",
      "25 - lightgbmclassifier\n",
      "{'boosting_type': 'goss',\n",
      " 'colsample_bytree': 0.7922222222222222,\n",
      " 'learning_rate': 0.09473736842105263,\n",
      " 'max_bin': 180,\n",
      " 'max_depth': 3,\n",
      " 'min_child_weight': 7,\n",
      " 'min_data_in_leaf': 0.04828103448275863,\n",
      " 'min_split_gain': 0.894736842105263,\n",
      " 'n_estimators': 100,\n",
      " 'n_jobs': 1,\n",
      " 'num_leaves': 95,\n",
      " 'problem_info': ProblemInfo(gpu_training_param_dict={'processing_unit_type': 'cpu'}),\n",
      " 'random_state': None,\n",
      " 'reg_alpha': 0.5789473684210527,\n",
      " 'reg_lambda': 0.5263157894736842,\n",
      " 'subsample': 1}\n",
      "\n",
      "14 - standardscalerwrapper\n",
      "{'class_name': 'StandardScaler',\n",
      " 'copy': True,\n",
      " 'module_name': 'sklearn.preprocessing._data',\n",
      " 'with_mean': False,\n",
      " 'with_std': False}\n",
      "\n",
      "14 - xgboostclassifier\n",
      "{'base_score': 0.5,\n",
      " 'booster': 'gbtree',\n",
      " 'colsample_bylevel': 1,\n",
      " 'colsample_bynode': 1,\n",
      " 'colsample_bytree': 1,\n",
      " 'eta': 0.3,\n",
      " 'gamma': 0,\n",
      " 'gpu_id': -1,\n",
      " 'importance_type': 'gain',\n",
      " 'interaction_constraints': '',\n",
      " 'learning_rate': 0.300000012,\n",
      " 'max_delta_step': 0,\n",
      " 'max_depth': 10,\n",
      " 'max_leaves': 511,\n",
      " 'min_child_weight': 1,\n",
      " 'missing': nan,\n",
      " 'monotone_constraints': '()',\n",
      " 'n_estimators': 10,\n",
      " 'n_jobs': 1,\n",
      " 'num_parallel_tree': 1,\n",
      " 'objective': 'reg:logistic',\n",
      " 'random_state': 0,\n",
      " 'reg_alpha': 2.1875,\n",
      " 'reg_lambda': 0.4166666666666667,\n",
      " 'scale_pos_weight': 1,\n",
      " 'subsample': 0.5,\n",
      " 'tree_method': 'auto',\n",
      " 'use_label_encoder': True,\n",
      " 'validate_parameters': 1,\n",
      " 'verbose': -10,\n",
      " 'verbosity': 0}\n",
      "\n",
      "5 - maxabsscaler\n",
      "{'copy': True}\n",
      "\n",
      "5 - lightgbmclassifier\n",
      "{'boosting_type': 'gbdt',\n",
      " 'colsample_bytree': 0.5944444444444444,\n",
      " 'learning_rate': 0.06316157894736842,\n",
      " 'max_bin': 260,\n",
      " 'max_depth': 6,\n",
      " 'min_child_weight': 2,\n",
      " 'min_data_in_leaf': 0.003457931034482759,\n",
      " 'min_split_gain': 0.42105263157894735,\n",
      " 'n_estimators': 10,\n",
      " 'n_jobs': 1,\n",
      " 'num_leaves': 161,\n",
      " 'problem_info': ProblemInfo(gpu_training_param_dict={'processing_unit_type': 'cpu'}),\n",
      " 'random_state': None,\n",
      " 'reg_alpha': 0.3684210526315789,\n",
      " 'reg_lambda': 0.15789473684210525,\n",
      " 'subsample': 0.5447368421052632}\n",
      "\n",
      "9 - standardscalerwrapper\n",
      "{'class_name': 'StandardScaler',\n",
      " 'copy': True,\n",
      " 'module_name': 'sklearn.preprocessing._data',\n",
      " 'with_mean': False,\n",
      " 'with_std': False}\n",
      "\n",
      "9 - xgboostclassifier\n",
      "{'base_score': 0.5,\n",
      " 'booster': 'gbtree',\n",
      " 'colsample_bylevel': 1,\n",
      " 'colsample_bynode': 1,\n",
      " 'colsample_bytree': 0.5,\n",
      " 'eta': 0.5,\n",
      " 'gamma': 0,\n",
      " 'gpu_id': -1,\n",
      " 'importance_type': 'gain',\n",
      " 'interaction_constraints': '',\n",
      " 'learning_rate': 0.5,\n",
      " 'max_delta_step': 0,\n",
      " 'max_depth': 6,\n",
      " 'max_leaves': 3,\n",
      " 'min_child_weight': 1,\n",
      " 'missing': nan,\n",
      " 'monotone_constraints': '()',\n",
      " 'n_estimators': 10,\n",
      " 'n_jobs': 1,\n",
      " 'num_parallel_tree': 1,\n",
      " 'objective': 'reg:logistic',\n",
      " 'random_state': 0,\n",
      " 'reg_alpha': 0.7291666666666667,\n",
      " 'reg_lambda': 2.3958333333333335,\n",
      " 'scale_pos_weight': 1,\n",
      " 'subsample': 0.8,\n",
      " 'tree_method': 'auto',\n",
      " 'use_label_encoder': True,\n",
      " 'validate_parameters': 1,\n",
      " 'verbose': -10,\n",
      " 'verbosity': 0}\n",
      "\n",
      "22 - sparsenormalizer\n",
      "{'copy': True, 'norm': 'l1'}\n",
      "\n",
      "22 - xgboostclassifier\n",
      "{'base_score': 0.5,\n",
      " 'booster': 'gbtree',\n",
      " 'colsample_bylevel': 1,\n",
      " 'colsample_bynode': 1,\n",
      " 'colsample_bytree': 1,\n",
      " 'eta': 0.2,\n",
      " 'gamma': 0,\n",
      " 'gpu_id': -1,\n",
      " 'importance_type': 'gain',\n",
      " 'interaction_constraints': '',\n",
      " 'learning_rate': 0.200000003,\n",
      " 'max_delta_step': 0,\n",
      " 'max_depth': 10,\n",
      " 'max_leaves': 0,\n",
      " 'min_child_weight': 1,\n",
      " 'missing': nan,\n",
      " 'monotone_constraints': '()',\n",
      " 'n_estimators': 10,\n",
      " 'n_jobs': 1,\n",
      " 'num_parallel_tree': 1,\n",
      " 'objective': 'reg:logistic',\n",
      " 'random_state': 0,\n",
      " 'reg_alpha': 1.3541666666666667,\n",
      " 'reg_lambda': 1.4583333333333335,\n",
      " 'scale_pos_weight': 1,\n",
      " 'subsample': 1,\n",
      " 'tree_method': 'auto',\n",
      " 'use_label_encoder': True,\n",
      " 'validate_parameters': 1,\n",
      " 'verbose': -10,\n",
      " 'verbosity': 0}\n",
      "\n",
      "12 - maxabsscaler\n",
      "{'copy': True}\n",
      "\n",
      "12 - logisticregression\n",
      "{'C': 719.6856730011514,\n",
      " 'class_weight': None,\n",
      " 'dual': False,\n",
      " 'fit_intercept': True,\n",
      " 'intercept_scaling': 1,\n",
      " 'l1_ratio': None,\n",
      " 'max_iter': 100,\n",
      " 'multi_class': 'multinomial',\n",
      " 'n_jobs': 1,\n",
      " 'penalty': 'l2',\n",
      " 'random_state': None,\n",
      " 'solver': 'lbfgs',\n",
      " 'tol': 0.0001,\n",
      " 'verbose': 0,\n",
      " 'warm_start': False}\n",
      "\n",
      "19 - truncatedsvdwrapper\n",
      "{'n_components': 0.8015789473684211, 'random_state': None}\n",
      "\n",
      "19 - randomforestclassifier\n",
      "{'bootstrap': False,\n",
      " 'ccp_alpha': 0.0,\n",
      " 'class_weight': 'balanced',\n",
      " 'criterion': 'entropy',\n",
      " 'max_depth': None,\n",
      " 'max_features': 'sqrt',\n",
      " 'max_leaf_nodes': None,\n",
      " 'max_samples': None,\n",
      " 'min_impurity_decrease': 0.0,\n",
      " 'min_impurity_split': None,\n",
      " 'min_samples_leaf': 0.035789473684210524,\n",
      " 'min_samples_split': 0.15052631578947367,\n",
      " 'min_weight_fraction_leaf': 0.0,\n",
      " 'n_estimators': 100,\n",
      " 'n_jobs': 1,\n",
      " 'oob_score': False,\n",
      " 'random_state': None,\n",
      " 'verbose': 0,\n",
      " 'warm_start': False}\n",
      "\n"
     ]
    }
   ],
   "source": [
    "from pprint import pprint\n",
    "\n",
    "def print_model(model, prefix=\"\"):\n",
    "    for step in model.steps:\n",
    "        print(prefix + step[0])\n",
    "        if hasattr(step[1], 'estimators') and hasattr(step[1], 'weights'):\n",
    "            pprint({'estimators': list(\n",
    "                e[0] for e in step[1].estimators), 'weights': step[1].weights})\n",
    "            print()\n",
    "            for estimator in step[1].estimators:\n",
    "                print_model(estimator[1], estimator[0] + ' - ')\n",
    "        else:\n",
    "            pprint(step[1].get_params())\n",
    "            print()\n",
    "\n",
    "print_model(fitted_model_automl)"
   ]
  },
  {
   "cell_type": "code",
   "execution_count": 37,
   "metadata": {
    "scrolled": true
   },
   "outputs": [
    {
     "data": {
      "text/plain": [
       "['accuracy_table',\n",
       " 'automl_driver.py',\n",
       " 'confusion_matrix',\n",
       " 'explanation/c7e564bd/classes.interpret.json',\n",
       " 'explanation/c7e564bd/eval_data_viz.interpret.json',\n",
       " 'explanation/c7e564bd/expected_values.interpret.json',\n",
       " 'explanation/c7e564bd/features.interpret.json',\n",
       " 'explanation/c7e564bd/global_names/0.interpret.json',\n",
       " 'explanation/c7e564bd/global_rank/0.interpret.json',\n",
       " 'explanation/c7e564bd/global_values/0.interpret.json',\n",
       " 'explanation/c7e564bd/local_importance_values.interpret.json',\n",
       " 'explanation/c7e564bd/per_class_names/0.interpret.json',\n",
       " 'explanation/c7e564bd/per_class_rank/0.interpret.json',\n",
       " 'explanation/c7e564bd/per_class_values/0.interpret.json',\n",
       " 'explanation/c7e564bd/rich_metadata.interpret.json',\n",
       " 'explanation/c7e564bd/true_ys_viz.interpret.json',\n",
       " 'explanation/c7e564bd/visualization_dict.interpret.json',\n",
       " 'explanation/c7e564bd/ys_pred_proba_viz.interpret.json',\n",
       " 'explanation/c7e564bd/ys_pred_viz.interpret.json',\n",
       " 'explanation/d2b081c8/classes.interpret.json',\n",
       " 'explanation/d2b081c8/expected_values.interpret.json',\n",
       " 'explanation/d2b081c8/features.interpret.json',\n",
       " 'explanation/d2b081c8/global_names/0.interpret.json',\n",
       " 'explanation/d2b081c8/global_rank/0.interpret.json',\n",
       " 'explanation/d2b081c8/global_values/0.interpret.json',\n",
       " 'explanation/d2b081c8/local_importance_values_sparse.interpret.json',\n",
       " 'explanation/d2b081c8/per_class_names/0.interpret.json',\n",
       " 'explanation/d2b081c8/per_class_rank/0.interpret.json',\n",
       " 'explanation/d2b081c8/per_class_values/0.interpret.json',\n",
       " 'explanation/d2b081c8/rich_metadata.interpret.json',\n",
       " 'explanation/d2b081c8/true_ys_viz.interpret.json',\n",
       " 'explanation/d2b081c8/visualization_dict.interpret.json',\n",
       " 'explanation/d2b081c8/ys_pred_proba_viz.interpret.json',\n",
       " 'explanation/d2b081c8/ys_pred_viz.interpret.json',\n",
       " 'logs/azureml/azureml_automl.log',\n",
       " 'outputs/conda_env_v_1_0_0.yml',\n",
       " 'outputs/engineered_feature_names.json',\n",
       " 'outputs/env_dependencies.json',\n",
       " 'outputs/featurization_summary.json',\n",
       " 'outputs/generated_code/script.py',\n",
       " 'outputs/generated_code/script_run_notebook.ipynb',\n",
       " 'outputs/internal_cross_validated_models.pkl',\n",
       " 'outputs/model.pkl',\n",
       " 'outputs/pipeline_graph.json',\n",
       " 'outputs/run_id.txt',\n",
       " 'outputs/scoring_file_pbi_v_1_0_0.py',\n",
       " 'outputs/scoring_file_v_1_0_0.py',\n",
       " 'outputs/scoring_file_v_2_0_0.py',\n",
       " 'system_logs/cs_capability/cs-capability.log',\n",
       " 'system_logs/hosttools_capability/hosttools-capability.log',\n",
       " 'system_logs/lifecycler/execution-wrapper.log',\n",
       " 'system_logs/lifecycler/lifecycler.log',\n",
       " 'system_logs/metrics_capability/metrics-capability.log',\n",
       " 'system_logs/snapshot_capability/snapshot-capability.log',\n",
       " 'user_logs/std_log.txt']"
      ]
     },
     "execution_count": 37,
     "metadata": {},
     "output_type": "execute_result"
    }
   ],
   "source": [
    "best_run_automl.get_file_names()"
   ]
  },
  {
   "cell_type": "code",
   "execution_count": 38,
   "metadata": {},
   "outputs": [
    {
     "data": {
      "text/plain": [
       "{'average_precision_score_macro': 0.8579304877017229,\n",
       " 'AUC_macro': 0.8670637485315383,\n",
       " 'precision_score_macro': 0.8356828006982215,\n",
       " 'accuracy': 0.8417478152309613,\n",
       " 'recall_score_weighted': 0.8417478152309613,\n",
       " 'weighted_accuracy': 0.8566344223606561,\n",
       " 'AUC_micro': 0.8841428520217394,\n",
       " 'recall_score_micro': 0.8417478152309613,\n",
       " 'f1_score_micro': 0.8417478152309613,\n",
       " 'f1_score_macro': 0.8275170773583665,\n",
       " 'balanced_accuracy': 0.82411820965432,\n",
       " 'precision_score_micro': 0.8417478152309613,\n",
       " 'log_loss': 0.4216060032013066,\n",
       " 'precision_score_weighted': 0.8433549655637211,\n",
       " 'matthews_correlation': 0.6595608348963032,\n",
       " 'recall_score_macro': 0.82411820965432,\n",
       " 'average_precision_score_micro': 0.8648455342146549,\n",
       " 'average_precision_score_weighted': 0.8654994145090266,\n",
       " 'norm_macro_recall': 0.6482364193086402,\n",
       " 'AUC_weighted': 0.8670637485315383,\n",
       " 'f1_score_weighted': 0.8403485361469988,\n",
       " 'confusion_matrix': 'aml://artifactId/ExperimentRun/dcid.AutoML_054d496a-23c1-4a94-aace-2daf4dca2f3a_36/confusion_matrix',\n",
       " 'accuracy_table': 'aml://artifactId/ExperimentRun/dcid.AutoML_054d496a-23c1-4a94-aace-2daf4dca2f3a_36/accuracy_table'}"
      ]
     },
     "execution_count": 38,
     "metadata": {},
     "output_type": "execute_result"
    }
   ],
   "source": [
    "best_run_automl.get_metrics()"
   ]
  },
  {
   "cell_type": "code",
   "execution_count": 39,
   "metadata": {},
   "outputs": [
    {
     "data": {
      "text/plain": [
       "{'runTemplate': 'automl_child',\n",
       " 'pipeline_id': '__AutoML_Ensemble__',\n",
       " 'pipeline_spec': '{\"pipeline_id\":\"__AutoML_Ensemble__\",\"objects\":[{\"module\":\"azureml.train.automl.ensemble\",\"class_name\":\"Ensemble\",\"spec_class\":\"sklearn\",\"param_args\":[],\"param_kwargs\":{\"automl_settings\":\"{\\'task_type\\':\\'classification\\',\\'primary_metric\\':\\'accuracy\\',\\'verbosity\\':20,\\'ensemble_iterations\\':15,\\'is_timeseries\\':False,\\'name\\':\\'capstone_project\\',\\'compute_target\\':\\'cluster-capstone\\',\\'subscription_id\\':\\'9a7511b8-150f-4a58-8528-3e7d50216c31\\',\\'region\\':\\'southcentralus\\',\\'spark_service\\':None}\",\"ensemble_run_id\":\"AutoML_054d496a-23c1-4a94-aace-2daf4dca2f3a_36\",\"experiment_name\":\"capstone_project\",\"workspace_name\":\"quick-starts-ws-242438\",\"subscription_id\":\"9a7511b8-150f-4a58-8528-3e7d50216c31\",\"resource_group_name\":\"aml-quickstarts-242438\"}}]}',\n",
       " 'training_percent': '100',\n",
       " 'predicted_cost': None,\n",
       " 'iteration': '36',\n",
       " '_aml_system_scenario_identification': 'Remote.Child',\n",
       " '_azureml.ComputeTargetType': 'amlctrain',\n",
       " 'ContentSnapshotId': 'b94e026c-35a8-4c96-a2b3-a186f3308ad6',\n",
       " 'ProcessInfoFile': 'azureml-logs/process_info.json',\n",
       " 'ProcessStatusFile': 'azureml-logs/process_status.json',\n",
       " 'run_preprocessor': '',\n",
       " 'run_algorithm': 'VotingEnsemble',\n",
       " 'ensembled_iterations': '[18, 10, 1, 25, 14, 5, 9, 22, 12, 19]',\n",
       " 'ensembled_algorithms': \"['XGBoostClassifier', 'LightGBM', 'XGBoostClassifier', 'LightGBM', 'XGBoostClassifier', 'LightGBM', 'XGBoostClassifier', 'XGBoostClassifier', 'LogisticRegression', 'RandomForest']\",\n",
       " 'ensembled_run_ids': \"['AutoML_054d496a-23c1-4a94-aace-2daf4dca2f3a_18', 'AutoML_054d496a-23c1-4a94-aace-2daf4dca2f3a_10', 'AutoML_054d496a-23c1-4a94-aace-2daf4dca2f3a_1', 'AutoML_054d496a-23c1-4a94-aace-2daf4dca2f3a_25', 'AutoML_054d496a-23c1-4a94-aace-2daf4dca2f3a_14', 'AutoML_054d496a-23c1-4a94-aace-2daf4dca2f3a_5', 'AutoML_054d496a-23c1-4a94-aace-2daf4dca2f3a_9', 'AutoML_054d496a-23c1-4a94-aace-2daf4dca2f3a_22', 'AutoML_054d496a-23c1-4a94-aace-2daf4dca2f3a_12', 'AutoML_054d496a-23c1-4a94-aace-2daf4dca2f3a_19']\",\n",
       " 'ensemble_weights': '[0.15384615384615385, 0.07692307692307693, 0.15384615384615385, 0.07692307692307693, 0.07692307692307693, 0.07692307692307693, 0.15384615384615385, 0.07692307692307693, 0.07692307692307693, 0.07692307692307693]',\n",
       " 'best_individual_pipeline_score': '0.8249063670411985',\n",
       " 'best_individual_iteration': '18',\n",
       " 'model_output_path': 'outputs/model.pkl',\n",
       " 'conda_env_data_location': 'aml://artifact/ExperimentRun/dcid.AutoML_054d496a-23c1-4a94-aace-2daf4dca2f3a_36/outputs/conda_env_v_1_0_0.yml',\n",
       " 'model_data_location': 'aml://artifact/ExperimentRun/dcid.AutoML_054d496a-23c1-4a94-aace-2daf4dca2f3a_36/outputs/model.pkl',\n",
       " 'model_size_on_disk': '13868297',\n",
       " 'scoring_data_location': 'aml://artifact/ExperimentRun/dcid.AutoML_054d496a-23c1-4a94-aace-2daf4dca2f3a_36/outputs/scoring_file_v_1_0_0.py',\n",
       " 'scoring_data_location_v2': 'aml://artifact/ExperimentRun/dcid.AutoML_054d496a-23c1-4a94-aace-2daf4dca2f3a_36/outputs/scoring_file_v_2_0_0.py',\n",
       " 'scoring_data_location_pbi': 'aml://artifact/ExperimentRun/dcid.AutoML_054d496a-23c1-4a94-aace-2daf4dca2f3a_36/outputs/scoring_file_pbi_v_1_0_0.py',\n",
       " 'model_exp_support': 'True',\n",
       " 'pipeline_graph_version': '1.0.0',\n",
       " 'model_name': 'AutoML054d496a236',\n",
       " 'score': '0.8417478152309613',\n",
       " 'score_table': 'NaN',\n",
       " 'run_properties': 'classification_labels=numpy.array([0, 1]',\n",
       " 'pipeline_script': '{\"pipeline_id\":\"__AutoML_Ensemble__\",\"objects\":[{\"module\":\"azureml.train.automl.ensemble\",\"class_name\":\"Ensemble\",\"spec_class\":\"sklearn\",\"param_args\":[],\"param_kwargs\":{\"automl_settings\":\"{\\'task_type\\':\\'classification\\',\\'primary_metric\\':\\'accuracy\\',\\'verbosity\\':20,\\'ensemble_iterations\\':15,\\'is_timeseries\\':False,\\'name\\':\\'capstone_project\\',\\'compute_target\\':\\'cluster-capstone\\',\\'subscription_id\\':\\'9a7511b8-150f-4a58-8528-3e7d50216c31\\',\\'region\\':\\'southcentralus\\',\\'spark_service\\':None}\",\"ensemble_run_id\":\"AutoML_054d496a-23c1-4a94-aace-2daf4dca2f3a_36\",\"experiment_name\":\"capstone_project\",\"workspace_name\":\"quick-starts-ws-242438\",\"subscription_id\":\"9a7511b8-150f-4a58-8528-3e7d50216c31\",\"resource_group_name\":\"aml-quickstarts-242438\"}}]}',\n",
       " 'training_type': 'MeanCrossValidation',\n",
       " 'fit_time': '24',\n",
       " 'goal': 'accuracy_max',\n",
       " 'primary_metric': 'accuracy',\n",
       " 'errors': '{}',\n",
       " 'onnx_model_resource': '{}',\n",
       " 'dependencies_versions': '{\"azureml-dataprep-native\": \"38.0.0\", \"azureml-dataprep\": \"4.11.4\", \"azureml-dataprep-rslex\": \"2.18.4\", \"azureml-automl-runtime\": \"1.52.0.post1\", \"azureml-automl-core\": \"1.52.0.post1\", \"azureml-mlflow\": \"1.52.0\", \"azureml-telemetry\": \"1.52.0\", \"azureml-core\": \"1.52.0\", \"azureml-train-core\": \"1.52.0\", \"azureml-train-automl-runtime\": \"1.52.0\", \"azureml-interpret\": \"1.52.0\", \"azureml-defaults\": \"1.52.0\", \"azureml-dataset-runtime\": \"1.52.0\", \"azureml-responsibleai\": \"1.52.0\", \"azureml-train-restclients-hyperdrive\": \"1.52.0\", \"azureml-train-automl-client\": \"1.52.0\", \"azureml-pipeline-core\": \"1.52.0\", \"azureml-training-tabular\": \"1.52.0\", \"azureml-inference-server-http\": \"0.8.4\"}',\n",
       " 'num_cores': '4',\n",
       " 'num_logical_cores': '4',\n",
       " 'peak_memory_usage': '2613560',\n",
       " 'vm_configuration': 'x86_64',\n",
       " 'core_hours': '0.010542148333333334',\n",
       " 'feature_skus': 'automatedml_sdk_guardrails'}"
      ]
     },
     "execution_count": 39,
     "metadata": {},
     "output_type": "execute_result"
    }
   ],
   "source": [
    "best_run_automl.properties"
   ]
  },
  {
   "cell_type": "code",
   "execution_count": 40,
   "metadata": {},
   "outputs": [
    {
     "data": {
      "text/plain": [
       "'VotingEnsemble'"
      ]
     },
     "execution_count": 40,
     "metadata": {},
     "output_type": "execute_result"
    }
   ],
   "source": [
    "best_run_automl.properties['run_algorithm']"
   ]
  },
  {
   "cell_type": "code",
   "execution_count": 41,
   "metadata": {},
   "outputs": [
    {
     "data": {
      "text/plain": [
       "'classification_labels=numpy.array([0, 1]'"
      ]
     },
     "execution_count": 41,
     "metadata": {},
     "output_type": "execute_result"
    }
   ],
   "source": [
    "best_run_automl.properties['run_properties']"
   ]
  },
  {
   "cell_type": "code",
   "execution_count": 45,
   "metadata": {},
   "outputs": [
    {
     "data": {
      "text/plain": [
       "'{\"pipeline_id\":\"__AutoML_Ensemble__\",\"objects\":[{\"module\":\"azureml.train.automl.ensemble\",\"class_name\":\"Ensemble\",\"spec_class\":\"sklearn\",\"param_args\":[],\"param_kwargs\":{\"automl_settings\":\"{\\'task_type\\':\\'classification\\',\\'primary_metric\\':\\'accuracy\\',\\'verbosity\\':20,\\'ensemble_iterations\\':15,\\'is_timeseries\\':False,\\'name\\':\\'capstone_project\\',\\'compute_target\\':\\'cluster-capstone\\',\\'subscription_id\\':\\'9a7511b8-150f-4a58-8528-3e7d50216c31\\',\\'region\\':\\'southcentralus\\',\\'spark_service\\':None}\",\"ensemble_run_id\":\"AutoML_054d496a-23c1-4a94-aace-2daf4dca2f3a_36\",\"experiment_name\":\"capstone_project\",\"workspace_name\":\"quick-starts-ws-242438\",\"subscription_id\":\"9a7511b8-150f-4a58-8528-3e7d50216c31\",\"resource_group_name\":\"aml-quickstarts-242438\"}}]}'"
      ]
     },
     "execution_count": 45,
     "metadata": {},
     "output_type": "execute_result"
    }
   ],
   "source": [
    "best_run_automl.properties['pipeline_spec']"
   ]
  },
  {
   "cell_type": "code",
   "execution_count": 46,
   "metadata": {
    "gather": {
     "logged": 1598431426111
    },
    "jupyter": {
     "outputs_hidden": false,
     "source_hidden": false
    },
    "nteract": {
     "transient": {
      "deleting": false
     }
    }
   },
   "outputs": [],
   "source": [
    "#Save the best model - download pkl and register model in Azure\n",
    "model_name = 'best_model'\n",
    "model = best_run_automl.register_model(model_name, model_path='outputs/model.pkl')"
   ]
  },
  {
   "cell_type": "code",
   "execution_count": 48,
   "metadata": {},
   "outputs": [],
   "source": [
    "best_run_automl.download_file('outputs/scoring_file_v_1_0_0.py', 'automl_output/score.py')\n",
    "best_run_automl.download_file('outputs/model.pkl', 'automl_output/model.pkl')"
   ]
  },
  {
   "cell_type": "code",
   "execution_count": 49,
   "metadata": {},
   "outputs": [
    {
     "name": "stdout",
     "output_type": "stream",
     "text": [
      "Model(workspace=Workspace.create(name='quick-starts-ws-242438', subscription_id='9a7511b8-150f-4a58-8528-3e7d50216c31', resource_group='aml-quickstarts-242438'), name=best_model, id=best_model:1, version=1, tags={}, properties={})\n"
     ]
    }
   ],
   "source": [
    "print(model)"
   ]
  },
  {
   "cell_type": "markdown",
   "metadata": {},
   "source": [
    "## Model Deployment\n",
    "\n",
    "Create an inference config and deploy the model as a web service."
   ]
  },
  {
   "cell_type": "code",
   "execution_count": 50,
   "metadata": {
    "gather": {
     "logged": 1598431435189
    },
    "jupyter": {
     "outputs_hidden": false,
     "source_hidden": false
    },
    "nteract": {
     "transient": {
      "deleting": false
     }
    }
   },
   "outputs": [
    {
     "name": "stdout",
     "output_type": "stream",
     "text": [
      "Tips: You can try get_logs(): https://aka.ms/debugimage#dockerlog or local deployment: https://aka.ms/debugimage#debug-locally to debug if deployment takes longer than 10 minutes.\n",
      "Running\n",
      "2023-10-08 01:35:32+00:00 Creating Container Registry if not exists..\n",
      "2023-10-08 01:45:33+00:00 Generating deployment configuration.\n",
      "2023-10-08 01:45:34+00:00 Submitting deployment to compute.\n",
      "2023-10-08 01:45:38+00:00 Checking the status of deployment capstone-automl-service..\n",
      "2023-10-08 01:47:30+00:00 Checking the status of inference endpoint capstone-automl-service.\n",
      "Succeeded\n",
      "ACI service creation operation finished, operation \"Succeeded\"\n"
     ]
    }
   ],
   "source": [
    "service_name = 'capstone-automl-service'\n",
    "inference_config = InferenceConfig(entry_script='automl_output/score.py')\n",
    "service = Model.deploy(ws, service_name, [model], inference_config, overwrite=True)\n",
    "service.wait_for_deployment(show_output=True)"
   ]
  },
  {
   "cell_type": "code",
   "execution_count": 51,
   "metadata": {},
   "outputs": [
    {
     "name": "stdout",
     "output_type": "stream",
     "text": [
      "Healthy\n"
     ]
    }
   ],
   "source": [
    "print(service.state)"
   ]
  },
  {
   "cell_type": "markdown",
   "metadata": {
    "collapsed": true,
    "gather": {
     "logged": 1598431657736
    },
    "jupyter": {
     "outputs_hidden": false,
     "source_hidden": false
    },
    "nteract": {
     "transient": {
      "deleting": false
     }
    }
   },
   "source": [
    "Send a request to the web service you deployed to test it."
   ]
  },
  {
   "cell_type": "code",
   "execution_count": 52,
   "metadata": {
    "gather": {
     "logged": 1598432707604
    },
    "jupyter": {
     "outputs_hidden": false,
     "source_hidden": false
    },
    "nteract": {
     "transient": {
      "deleting": false
     }
    }
   },
   "outputs": [],
   "source": [
    "import json\n",
    "\n",
    "data = {\"data\":\n",
    "        [\n",
    "          {\n",
    "            \"PassengerId\": 812,\n",
    "            \"Pclass\": 2,\n",
    "            \"Name\": \"Berriman, Mr. William John\",\n",
    "            \"Age\": 23.0,\n",
    "            \"SibSp\": 0,\n",
    "            \"Parch\": 0, \n",
    "            \"Ticket\": \"28425\",\n",
    "            \"Fare\": 13.0,\n",
    "            \"Cabin\": \"\",\n",
    "            \"Q\": 0,\n",
    "            \"S\": 1,\n",
    "            \"male\": 1\n",
    "          },\n",
    "          {\n",
    "            \"PassengerId\": 813,\n",
    "            \"Pclass\": 1,\n",
    "            \"Name\": \"Lesurer, Mr. Gustave J\",\n",
    "            \"Age\": 35.0,\n",
    "            \"SibSp\": 0,\n",
    "            \"Parch\": 0, \n",
    "            \"Ticket\": \"PC 17755\",\n",
    "            \"Fare\": 512.3292,\n",
    "            \"Cabin\": \"B101\",\n",
    "            \"Q\": 0,\n",
    "            \"S\": 0,\n",
    "            \"male\": 1\n",
    "          }\n",
    "      ]\n",
    "    }\n",
    "\n",
    "# Convert to JSON string\n",
    "input_data = json.dumps(data)"
   ]
  },
  {
   "cell_type": "markdown",
   "metadata": {
    "collapsed": true,
    "gather": {
     "logged": 1598432765711
    },
    "jupyter": {
     "outputs_hidden": false,
     "source_hidden": false
    },
    "nteract": {
     "transient": {
      "deleting": false
     }
    }
   },
   "source": [
    "Print the logs of the web service and delete the service"
   ]
  },
  {
   "cell_type": "code",
   "execution_count": 53,
   "metadata": {
    "gather": {
     "logged": 1610405031401
    },
    "jupyter": {
     "outputs_hidden": false,
     "source_hidden": false
    },
    "nteract": {
     "transient": {
      "deleting": false
     }
    }
   },
   "outputs": [],
   "source": [
    "output = service.run(input_data)"
   ]
  },
  {
   "cell_type": "code",
   "execution_count": 54,
   "metadata": {
    "gather": {
     "logged": 1610405037385
    },
    "jupyter": {
     "outputs_hidden": false,
     "source_hidden": false
    },
    "nteract": {
     "transient": {
      "deleting": false
     }
    }
   },
   "outputs": [
    {
     "name": "stdout",
     "output_type": "stream",
     "text": [
      "{\"result\": [0, 1]}\n"
     ]
    }
   ],
   "source": [
    "print(output)"
   ]
  },
  {
   "cell_type": "markdown",
   "metadata": {},
   "source": [
    "Delete the service:"
   ]
  },
  {
   "cell_type": "code",
   "execution_count": 25,
   "metadata": {
    "gather": {
     "logged": 1610405049049
    },
    "jupyter": {
     "outputs_hidden": false,
     "source_hidden": false
    },
    "nteract": {
     "transient": {
      "deleting": false
     }
    }
   },
   "outputs": [],
   "source": [
    "service.delete()"
   ]
  },
  {
   "cell_type": "code",
   "execution_count": 26,
   "metadata": {
    "jupyter": {
     "outputs_hidden": false,
     "source_hidden": false
    },
    "nteract": {
     "transient": {
      "deleting": false
     }
    }
   },
   "outputs": [
    {
     "name": "stdout",
     "output_type": "stream",
     "text": [
      "Deleting\n"
     ]
    }
   ],
   "source": [
    "print(service.state)"
   ]
  },
  {
   "cell_type": "code",
   "execution_count": null,
   "metadata": {},
   "outputs": [],
   "source": []
  }
 ],
 "metadata": {
  "kernel_info": {
   "name": "python38-azureml"
  },
  "kernelspec": {
   "display_name": "Python 3.8 - AzureML",
   "language": "python",
   "name": "python38-azureml"
  },
  "language_info": {
   "codemirror_mode": {
    "name": "ipython",
    "version": 3
   },
   "file_extension": ".py",
   "mimetype": "text/x-python",
   "name": "python",
   "nbconvert_exporter": "python",
   "pygments_lexer": "ipython3",
   "version": "3.8.5"
  },
  "microsoft": {
   "ms_spell_check": {
    "ms_spell_check_language": "en"
   }
  },
  "nteract": {
   "version": "nteract-front-end@1.0.0"
  }
 },
 "nbformat": 4,
 "nbformat_minor": 2
}
